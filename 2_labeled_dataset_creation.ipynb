{
  "nbformat": 4,
  "nbformat_minor": 0,
  "metadata": {
    "colab": {
      "name": "DataSet Creation.ipynb",
      "provenance": [],
      "collapsed_sections": [],
      "machine_shape": "hm"
    },
    "kernelspec": {
      "name": "python3",
      "display_name": "Python 3"
    },
    "language_info": {
      "name": "python"
    }
  },
  "cells": [
    {
      "cell_type": "code",
      "metadata": {
        "id": "kliZlDgO70wc"
      },
      "source": [
        "from google.colab import drive\n",
        "from bs4 import BeautifulSoup\n",
        "import pandas as pd\n",
        "import nltk                                # Python library for NLP\n",
        "import re\n",
        "import matplotlib.pyplot as plt\n",
        "import time"
      ],
      "execution_count": null,
      "outputs": []
    },
    {
      "cell_type": "code",
      "metadata": {
        "colab": {
          "base_uri": "https://localhost:8080/"
        },
        "id": "LPl1lvVP_Nc_",
        "outputId": "385e0d33-a97e-4308-ebe4-8c6b00559cd0"
      },
      "source": [
        "drive.mount('/content/drive')"
      ],
      "execution_count": null,
      "outputs": [
        {
          "output_type": "stream",
          "text": [
            "Drive already mounted at /content/drive; to attempt to forcibly remount, call drive.mount(\"/content/drive\", force_remount=True).\n"
          ],
          "name": "stdout"
        }
      ]
    },
    {
      "cell_type": "code",
      "metadata": {
        "id": "EjcuRkuQAmJ6"
      },
      "source": [
        "!mkdir -p /content/drive/MyDrive/Kaggle/stackoverflow/"
      ],
      "execution_count": null,
      "outputs": []
    },
    {
      "cell_type": "code",
      "metadata": {
        "id": "SwT8Bw98A3vZ"
      },
      "source": [
        "import os\n",
        "os.environ['KAGGLE_CONFIG_DIR'] = \"/content/drive/MyDrive/Kaggle\""
      ],
      "execution_count": null,
      "outputs": []
    },
    {
      "cell_type": "code",
      "metadata": {
        "colab": {
          "base_uri": "https://localhost:8080/"
        },
        "id": "Y0jEygyiA72v",
        "outputId": "2dfb5054-de02-4438-8544-4c4feae43f33"
      },
      "source": [
        "%cd /content/drive/MyDrive/Kaggle/stackoverflow/"
      ],
      "execution_count": null,
      "outputs": [
        {
          "output_type": "stream",
          "text": [
            "/content/drive/MyDrive/Kaggle/stackoverflow\n"
          ],
          "name": "stdout"
        }
      ]
    },
    {
      "cell_type": "code",
      "metadata": {
        "id": "tcZ-3za-Bb39",
        "colab": {
          "base_uri": "https://localhost:8080/"
        },
        "outputId": "2f331c5f-fc6b-4ef5-bfe5-da5ca387de33"
      },
      "source": [
        "#download dataset\n",
        "!kaggle datasets download -d stackoverflow/pythonquestions"
      ],
      "execution_count": null,
      "outputs": [
        {
          "output_type": "stream",
          "text": [
            "Downloading pythonquestions.zip to /content/drive/MyDrive/Kaggle/stackoverflow\n",
            " 98% 547M/558M [00:05<00:00, 107MB/s]\n",
            "100% 558M/558M [00:05<00:00, 113MB/s]\n"
          ],
          "name": "stdout"
        }
      ]
    },
    {
      "cell_type": "code",
      "metadata": {
        "id": "yqmtSwZtBcc0",
        "colab": {
          "base_uri": "https://localhost:8080/"
        },
        "outputId": "3f3b9358-b159-4bba-dcbd-02ba8a30b5ed"
      },
      "source": [
        "# extract dataset and remove .zip files\n",
        "!unzip \\*.zip  && rm *.zip"
      ],
      "execution_count": null,
      "outputs": [
        {
          "output_type": "stream",
          "text": [
            "Archive:  pythonquestions.zip\n",
            "  inflating: Answers.csv             \n",
            "  inflating: Questions.csv           \n",
            "replace Tags.csv? [y]es, [n]o, [A]ll, [N]one, [r]ename: y\n",
            "  inflating: Tags.csv                \n"
          ],
          "name": "stdout"
        }
      ]
    },
    {
      "cell_type": "markdown",
      "metadata": {
        "id": "oLjVDGZBsksO"
      },
      "source": [
        "y"
      ]
    },
    {
      "cell_type": "code",
      "metadata": {
        "colab": {
          "base_uri": "https://localhost:8080/"
        },
        "id": "rU-SLOHFB65V",
        "outputId": "36a52093-9224-4b4a-a0f9-909a0c06a727"
      },
      "source": [
        "%%time\n",
        "ques = pd.read_csv(\"Questions.csv\",engine='python')\n",
        "ans = pd.read_csv(\"Answers.csv\",engine='python')\n",
        "tags = pd.read_csv(\"Tags.csv\",engine='python')\n"
      ],
      "execution_count": null,
      "outputs": [
        {
          "output_type": "stream",
          "text": [
            "CPU times: user 46.6 s, sys: 8.16 s, total: 54.8 s\n",
            "Wall time: 54.6 s\n"
          ],
          "name": "stdout"
        }
      ]
    },
    {
      "cell_type": "code",
      "metadata": {
        "colab": {
          "base_uri": "https://localhost:8080/"
        },
        "id": "I8wK9gsPgYW7",
        "outputId": "1363699d-b374-48bd-ce13-73132b033d3c"
      },
      "source": [
        "!mkdir -p /content/drive/MyDrive/Kaggle/stackoverflow/final_hard\n",
        "%cd /content/drive/MyDrive/Kaggle/stackoverflow/final_hard"
      ],
      "execution_count": null,
      "outputs": [
        {
          "output_type": "stream",
          "text": [
            "/content/drive/MyDrive/Kaggle/stackoverflow/final_hard\n"
          ],
          "name": "stdout"
        }
      ]
    },
    {
      "cell_type": "code",
      "metadata": {
        "colab": {
          "base_uri": "https://localhost:8080/"
        },
        "id": "MMSbNz_6CHla",
        "outputId": "2e391cad-8f98-4621-b341-5ce6eef20653"
      },
      "source": [
        "total_ques_len = len(ques)\n",
        "total_ans_len = len(ans)\n",
        "\n",
        "print(f\"Length of Questions in Total {total_ques_len}\")\n",
        "print(f\"Length of Ans in Total {total_ans_len}\")"
      ],
      "execution_count": null,
      "outputs": [
        {
          "output_type": "stream",
          "text": [
            "Length of Questions in Total 607282\n",
            "Length of Ans in Total 987122\n"
          ],
          "name": "stdout"
        }
      ]
    },
    {
      "cell_type": "code",
      "metadata": {
        "id": "xHYHc0MvGKNk"
      },
      "source": [
        "# Remove all questions that have a negative score\n",
        "ques = ques[ques[\"Score\"] >= 0]\n",
        "# Remove answers of the removed question\n",
        "ans = ans.loc[ans.ParentId.isin(ques.Id)]\n",
        "len_ques_after_neg=len(ques)\n",
        "len_ans_after_neg=len(ans)\n"
      ],
      "execution_count": null,
      "outputs": []
    },
    {
      "cell_type": "code",
      "metadata": {
        "colab": {
          "base_uri": "https://localhost:8080/"
        },
        "id": "iToPX9ugHAzJ",
        "outputId": "d94a9168-5bf3-47a4-fe27-03d15d0f09d9"
      },
      "source": [
        "print(f\"Length of Questions after removing negative score questions {len_ques_after_neg}\")\n",
        "print(f\"Length of Answers after removing negative score questions {len_ans_after_neg}\")\n"
      ],
      "execution_count": null,
      "outputs": [
        {
          "output_type": "stream",
          "text": [
            "Length of Questions after removing negative score questions 570972\n",
            "Length of Answers after removing negative score questions 927230\n"
          ],
          "name": "stdout"
        }
      ]
    },
    {
      "cell_type": "code",
      "metadata": {
        "colab": {
          "base_uri": "https://localhost:8080/"
        },
        "id": "7XO1bFgKbZ0V",
        "outputId": "dc9d0df7-1d33-42ad-d345-b2519e3ddcfd"
      },
      "source": [
        "# Remove Questions without answers\n",
        "ques = ques.loc[ques.Id.isin(ans.ParentId)]\n",
        "len_of_ques_after_no_answer_removal = len(ques)\n",
        "\n",
        "print(f\"Length of Questions after removing question with no answer {len_of_ques_after_no_answer_removal}\")\n",
        "print(f\"Length of Questions after removing question with no answer {len(ans)}\")\n"
      ],
      "execution_count": null,
      "outputs": [
        {
          "output_type": "stream",
          "text": [
            "Length of Questions after removing question with no answer 503729\n",
            "Length of Questions after removing question with no answer 927230\n"
          ],
          "name": "stdout"
        }
      ]
    },
    {
      "cell_type": "code",
      "metadata": {
        "colab": {
          "base_uri": "https://localhost:8080/"
        },
        "id": "QyXUDd10cw_0",
        "outputId": "fce9ec3a-7e7a-4344-e2bb-971d6e8ac0b0"
      },
      "source": [
        "per =(total_ques_len-len(ques))/len(ques) *100\n",
        "print(\"persantage of questions removed: {0:.2g}%\".format(per))\n",
        "per =(total_ans_len-len(ans))/len(ans) *100\n",
        "print(\"persantage of answers removed: {0:.2g}%\".format(per))"
      ],
      "execution_count": null,
      "outputs": [
        {
          "output_type": "stream",
          "text": [
            "persantage of questions removed: 21%\n",
            "persantage of answers removed: 6.5%\n"
          ],
          "name": "stdout"
        }
      ]
    },
    {
      "cell_type": "markdown",
      "metadata": {
        "id": "siIjHcUq7cBK"
      },
      "source": [
        "#create dataset"
      ]
    },
    {
      "cell_type": "code",
      "metadata": {
        "id": "fUItu0Hihnr3"
      },
      "source": [
        "def get_text_from_html(html_string):\n",
        "    \"\"\"\n",
        "    input:\n",
        "        html_string (HTML string representing question body or answer body)\n",
        "    return:\n",
        "        html content\n",
        "    \"\"\"\n",
        "    bs = BeautifulSoup(html_string,\"html.parser\")\n",
        "    return bs.get_text()"
      ],
      "execution_count": null,
      "outputs": []
    },
    {
      "cell_type": "code",
      "metadata": {
        "colab": {
          "base_uri": "https://localhost:8080/"
        },
        "id": "Y80m_nTtwOJ-",
        "outputId": "d61b4074-0d94-4a8d-8977-7b588832b6e4"
      },
      "source": [
        "%%time\n",
        "ques[\"BodyClean\"]= ques['Body'].apply(get_text_from_html)"
      ],
      "execution_count": null,
      "outputs": [
        {
          "output_type": "stream",
          "text": [
            "CPU times: user 3min 47s, sys: 1.27 s, total: 3min 48s\n",
            "Wall time: 3min 48s\n"
          ],
          "name": "stdout"
        }
      ]
    },
    {
      "cell_type": "code",
      "metadata": {
        "colab": {
          "base_uri": "https://localhost:8080/",
          "height": 402
        },
        "id": "gEBkXYb9ht7I",
        "outputId": "f8b1fa99-b5da-4ada-e7ba-c811163478b7"
      },
      "source": [
        "ans"
      ],
      "execution_count": null,
      "outputs": [
        {
          "output_type": "execute_result",
          "data": {
            "text/html": [
              "<div>\n",
              "<style scoped>\n",
              "    .dataframe tbody tr th:only-of-type {\n",
              "        vertical-align: middle;\n",
              "    }\n",
              "\n",
              "    .dataframe tbody tr th {\n",
              "        vertical-align: top;\n",
              "    }\n",
              "\n",
              "    .dataframe thead th {\n",
              "        text-align: right;\n",
              "    }\n",
              "</style>\n",
              "<table border=\"1\" class=\"dataframe\">\n",
              "  <thead>\n",
              "    <tr style=\"text-align: right;\">\n",
              "      <th></th>\n",
              "      <th>Id</th>\n",
              "      <th>OwnerUserId</th>\n",
              "      <th>CreationDate</th>\n",
              "      <th>ParentId</th>\n",
              "      <th>Score</th>\n",
              "      <th>Body</th>\n",
              "    </tr>\n",
              "  </thead>\n",
              "  <tbody>\n",
              "    <tr>\n",
              "      <th>0</th>\n",
              "      <td>497</td>\n",
              "      <td>50.0</td>\n",
              "      <td>2008-08-02T16:56:53Z</td>\n",
              "      <td>469</td>\n",
              "      <td>4</td>\n",
              "      <td>&lt;p&gt;open up a terminal (Applications-&amp;gt;Utilit...</td>\n",
              "    </tr>\n",
              "    <tr>\n",
              "      <th>1</th>\n",
              "      <td>518</td>\n",
              "      <td>153.0</td>\n",
              "      <td>2008-08-02T17:42:28Z</td>\n",
              "      <td>469</td>\n",
              "      <td>2</td>\n",
              "      <td>&lt;p&gt;I haven't been able to find anything that d...</td>\n",
              "    </tr>\n",
              "    <tr>\n",
              "      <th>2</th>\n",
              "      <td>536</td>\n",
              "      <td>161.0</td>\n",
              "      <td>2008-08-02T18:49:07Z</td>\n",
              "      <td>502</td>\n",
              "      <td>9</td>\n",
              "      <td>&lt;p&gt;You can use ImageMagick's convert utility f...</td>\n",
              "    </tr>\n",
              "    <tr>\n",
              "      <th>3</th>\n",
              "      <td>538</td>\n",
              "      <td>156.0</td>\n",
              "      <td>2008-08-02T18:56:56Z</td>\n",
              "      <td>535</td>\n",
              "      <td>23</td>\n",
              "      <td>&lt;p&gt;One possibility is Hudson.  It's written in...</td>\n",
              "    </tr>\n",
              "    <tr>\n",
              "      <th>4</th>\n",
              "      <td>541</td>\n",
              "      <td>157.0</td>\n",
              "      <td>2008-08-02T19:06:40Z</td>\n",
              "      <td>535</td>\n",
              "      <td>20</td>\n",
              "      <td>&lt;p&gt;We run &lt;a href=\"http://buildbot.net/trac\"&gt;B...</td>\n",
              "    </tr>\n",
              "    <tr>\n",
              "      <th>...</th>\n",
              "      <td>...</td>\n",
              "      <td>...</td>\n",
              "      <td>...</td>\n",
              "      <td>...</td>\n",
              "      <td>...</td>\n",
              "      <td>...</td>\n",
              "    </tr>\n",
              "    <tr>\n",
              "      <th>987117</th>\n",
              "      <td>40143290</td>\n",
              "      <td>3831.0</td>\n",
              "      <td>2016-10-19T23:46:58Z</td>\n",
              "      <td>40142906</td>\n",
              "      <td>0</td>\n",
              "      <td>&lt;p&gt;I am fairly certain your problem is your us...</td>\n",
              "    </tr>\n",
              "    <tr>\n",
              "      <th>987118</th>\n",
              "      <td>40143315</td>\n",
              "      <td>3125566.0</td>\n",
              "      <td>2016-10-19T23:49:43Z</td>\n",
              "      <td>40143166</td>\n",
              "      <td>2</td>\n",
              "      <td>&lt;p&gt;First thing, you should use &lt;code&gt;if/elif&lt;/...</td>\n",
              "    </tr>\n",
              "    <tr>\n",
              "      <th>987119</th>\n",
              "      <td>40143317</td>\n",
              "      <td>2350575.0</td>\n",
              "      <td>2016-10-19T23:50:04Z</td>\n",
              "      <td>40142194</td>\n",
              "      <td>0</td>\n",
              "      <td>&lt;p&gt;If you are using firefox ver &gt;47.0.1 you ne...</td>\n",
              "    </tr>\n",
              "    <tr>\n",
              "      <th>987120</th>\n",
              "      <td>40143349</td>\n",
              "      <td>6934347.0</td>\n",
              "      <td>2016-10-19T23:54:02Z</td>\n",
              "      <td>40077010</td>\n",
              "      <td>0</td>\n",
              "      <td>&lt;p&gt;I solved my own problem defining the follow...</td>\n",
              "    </tr>\n",
              "    <tr>\n",
              "      <th>987121</th>\n",
              "      <td>40143370</td>\n",
              "      <td>6502500.0</td>\n",
              "      <td>2016-10-19T23:56:31Z</td>\n",
              "      <td>40142538</td>\n",
              "      <td>0</td>\n",
              "      <td>&lt;p&gt;I can't seem to reproduce your error but up...</td>\n",
              "    </tr>\n",
              "  </tbody>\n",
              "</table>\n",
              "<p>927230 rows × 6 columns</p>\n",
              "</div>"
            ],
            "text/plain": [
              "              Id  ...                                               Body\n",
              "0            497  ...  <p>open up a terminal (Applications-&gt;Utilit...\n",
              "1            518  ...  <p>I haven't been able to find anything that d...\n",
              "2            536  ...  <p>You can use ImageMagick's convert utility f...\n",
              "3            538  ...  <p>One possibility is Hudson.  It's written in...\n",
              "4            541  ...  <p>We run <a href=\"http://buildbot.net/trac\">B...\n",
              "...          ...  ...                                                ...\n",
              "987117  40143290  ...  <p>I am fairly certain your problem is your us...\n",
              "987118  40143315  ...  <p>First thing, you should use <code>if/elif</...\n",
              "987119  40143317  ...  <p>If you are using firefox ver >47.0.1 you ne...\n",
              "987120  40143349  ...  <p>I solved my own problem defining the follow...\n",
              "987121  40143370  ...  <p>I can't seem to reproduce your error but up...\n",
              "\n",
              "[927230 rows x 6 columns]"
            ]
          },
          "metadata": {
            "tags": []
          },
          "execution_count": 0
        }
      ]
    },
    {
      "cell_type": "code",
      "metadata": {
        "id": "KVhnvy5Cotv8"
      },
      "source": [
        "#get top 1 answers of every question\n",
        "top_ans = ans.sort_values(by=\"Score\",ascending=False).groupby(\"ParentId\").head(3).reset_index(drop=True)"
      ],
      "execution_count": null,
      "outputs": []
    },
    {
      "cell_type": "code",
      "metadata": {
        "id": "SNGdaRYrx6x0"
      },
      "source": [
        "#get needed columns only\n",
        "top_ans = top_ans[[\"Id\", \"Body\",\"ParentId\"]]\n",
        "new_ques = ques[[\"Id\",\"Title\",\"BodyClean\"]]\n",
        "top_ans = top_ans.rename(columns={\"Id\":\"ans_id\"})"
      ],
      "execution_count": null,
      "outputs": []
    },
    {
      "cell_type": "code",
      "metadata": {
        "colab": {
          "base_uri": "https://localhost:8080/",
          "height": 279
        },
        "id": "upDF55a6t3WG",
        "outputId": "5ea6c8db-4a2f-4f21-eb9f-172056027c55"
      },
      "source": [
        "ques.head()"
      ],
      "execution_count": null,
      "outputs": [
        {
          "output_type": "execute_result",
          "data": {
            "text/html": [
              "<div>\n",
              "<style scoped>\n",
              "    .dataframe tbody tr th:only-of-type {\n",
              "        vertical-align: middle;\n",
              "    }\n",
              "\n",
              "    .dataframe tbody tr th {\n",
              "        vertical-align: top;\n",
              "    }\n",
              "\n",
              "    .dataframe thead th {\n",
              "        text-align: right;\n",
              "    }\n",
              "</style>\n",
              "<table border=\"1\" class=\"dataframe\">\n",
              "  <thead>\n",
              "    <tr style=\"text-align: right;\">\n",
              "      <th></th>\n",
              "      <th>Id</th>\n",
              "      <th>OwnerUserId</th>\n",
              "      <th>CreationDate</th>\n",
              "      <th>Score</th>\n",
              "      <th>Title</th>\n",
              "      <th>Body</th>\n",
              "      <th>BodyClean</th>\n",
              "    </tr>\n",
              "  </thead>\n",
              "  <tbody>\n",
              "    <tr>\n",
              "      <th>0</th>\n",
              "      <td>469</td>\n",
              "      <td>147.0</td>\n",
              "      <td>2008-08-02T15:11:16Z</td>\n",
              "      <td>21</td>\n",
              "      <td>How can I find the full path to a font from it...</td>\n",
              "      <td>&lt;p&gt;I am using the Photoshop's javascript API t...</td>\n",
              "      <td>I am using the Photoshop's javascript API to f...</td>\n",
              "    </tr>\n",
              "    <tr>\n",
              "      <th>1</th>\n",
              "      <td>502</td>\n",
              "      <td>147.0</td>\n",
              "      <td>2008-08-02T17:01:58Z</td>\n",
              "      <td>27</td>\n",
              "      <td>Get a preview JPEG of a PDF on Windows?</td>\n",
              "      <td>&lt;p&gt;I have a cross-platform (Python) applicatio...</td>\n",
              "      <td>I have a cross-platform (Python) application w...</td>\n",
              "    </tr>\n",
              "    <tr>\n",
              "      <th>2</th>\n",
              "      <td>535</td>\n",
              "      <td>154.0</td>\n",
              "      <td>2008-08-02T18:43:54Z</td>\n",
              "      <td>40</td>\n",
              "      <td>Continuous Integration System for a Python Cod...</td>\n",
              "      <td>&lt;p&gt;I'm starting work on a hobby project with a...</td>\n",
              "      <td>I'm starting work on a hobby project with a py...</td>\n",
              "    </tr>\n",
              "    <tr>\n",
              "      <th>3</th>\n",
              "      <td>594</td>\n",
              "      <td>116.0</td>\n",
              "      <td>2008-08-03T01:15:08Z</td>\n",
              "      <td>25</td>\n",
              "      <td>cx_Oracle: How do I iterate over a result set?</td>\n",
              "      <td>&lt;p&gt;There are several ways to iterate over a re...</td>\n",
              "      <td>There are several ways to iterate over a resul...</td>\n",
              "    </tr>\n",
              "    <tr>\n",
              "      <th>4</th>\n",
              "      <td>683</td>\n",
              "      <td>199.0</td>\n",
              "      <td>2008-08-03T13:19:16Z</td>\n",
              "      <td>28</td>\n",
              "      <td>Using 'in' to match an attribute of Python obj...</td>\n",
              "      <td>&lt;p&gt;I don't remember whether I was dreaming or ...</td>\n",
              "      <td>I don't remember whether I was dreaming or not...</td>\n",
              "    </tr>\n",
              "  </tbody>\n",
              "</table>\n",
              "</div>"
            ],
            "text/plain": [
              "    Id  ...                                          BodyClean\n",
              "0  469  ...  I am using the Photoshop's javascript API to f...\n",
              "1  502  ...  I have a cross-platform (Python) application w...\n",
              "2  535  ...  I'm starting work on a hobby project with a py...\n",
              "3  594  ...  There are several ways to iterate over a resul...\n",
              "4  683  ...  I don't remember whether I was dreaming or not...\n",
              "\n",
              "[5 rows x 7 columns]"
            ]
          },
          "metadata": {
            "tags": []
          },
          "execution_count": 31
        }
      ]
    },
    {
      "cell_type": "code",
      "metadata": {
        "id": "lmfqseHco3jZ"
      },
      "source": [
        "#positive examples\n",
        "left = ques.set_index(['Id'])\n",
        "right = top_ans.set_index(['ParentId'])\n",
        "\n",
        "positive = left.join(right, lsuffix='Ques', rsuffix='Ans').reset_index()\n",
        "positive = positive.rename(columns={\"index\":\"ques_id\",\"Title\":\"ques_title\",\"BodyClean\":\"ques_body\",\"BodyAns\":\"ans\"})\n",
        "positive = positive[[\"ques_id\",\"ans_id\",\"ques_title\",\"ques_body\",\"ans\"]]\n",
        "positive[\"is_answer\"] = 1"
      ],
      "execution_count": null,
      "outputs": []
    },
    {
      "cell_type": "code",
      "metadata": {
        "id": "5i40Awx6w19I"
      },
      "source": [
        "#negative examples\n",
        "negative = positive[[\"ques_id\",\"ques_title\",\"ques_body\"]]\n",
        "shuffled_ans = ans.sample(frac=1).reset_index(drop=True)\n",
        "shuffled_ans = shuffled_ans[:len(negative)]\n",
        "negative = pd.concat([negative, shuffled_ans],axis=1)\n",
        "negative=negative[[\"ques_id\",\"Id\",\"ques_title\",\"ques_body\",\"Body\"]]\n",
        "negative = negative.rename(columns={\"Id\":\"ans_id\",\"Body\":\"ans\"})\n",
        "negative[\"is_answer\"]=0"
      ],
      "execution_count": null,
      "outputs": []
    },
    {
      "cell_type": "code",
      "metadata": {
        "id": "-fBErZa2CV9W"
      },
      "source": [
        "#merge negative and positive examples and suffle them\n",
        "dataset = pd.concat([positive,negative])\n",
        "dataset = dataset.sample(frac=1).reset_index(drop=True)"
      ],
      "execution_count": null,
      "outputs": []
    },
    {
      "cell_type": "code",
      "metadata": {
        "id": "tiHnQ6SjCfKi"
      },
      "source": [
        "#safe clean answer without html along with answer with html(if we wanted to remove codes)\n",
        "dataset[\"ans\"]= dataset['ans'].apply(get_text_from_html)"
      ],
      "execution_count": null,
      "outputs": []
    },
    {
      "cell_type": "code",
      "metadata": {
        "colab": {
          "base_uri": "https://localhost:8080/"
        },
        "id": "X6LUdltKua6y",
        "outputId": "a274f675-2acc-4c37-d32d-3a9f377f564e"
      },
      "source": [
        "%cd /content/drive/MyDrive/Kaggle/stackoverflow/"
      ],
      "execution_count": null,
      "outputs": [
        {
          "output_type": "stream",
          "text": [
            "/content/drive/MyDrive/Kaggle/stackoverflow\n"
          ],
          "name": "stdout"
        }
      ]
    },
    {
      "cell_type": "code",
      "metadata": {
        "id": "eVBgb7eoGntQ"
      },
      "source": [
        "#save\n",
        "dataset.to_pickle(\"./big_dataset.pkl\")"
      ],
      "execution_count": null,
      "outputs": []
    },
    {
      "cell_type": "code",
      "metadata": {
        "id": "hllKxZFGyKag",
        "outputId": "086c3b1e-731c-4760-98dc-9f6fa52f4bda",
        "colab": {
          "base_uri": "https://localhost:8080/"
        }
      },
      "source": [
        "dataset"
      ],
      "execution_count": null,
      "outputs": [
        {
          "output_type": "execute_result",
          "data": {
            "text/html": [
              "<div>\n",
              "<style scoped>\n",
              "    .dataframe tbody tr th:only-of-type {\n",
              "        vertical-align: middle;\n",
              "    }\n",
              "\n",
              "    .dataframe tbody tr th {\n",
              "        vertical-align: top;\n",
              "    }\n",
              "\n",
              "    .dataframe thead th {\n",
              "        text-align: right;\n",
              "    }\n",
              "</style>\n",
              "<table border=\"1\" class=\"dataframe\">\n",
              "  <thead>\n",
              "    <tr style=\"text-align: right;\">\n",
              "      <th></th>\n",
              "      <th>ques_id</th>\n",
              "      <th>ans_id</th>\n",
              "      <th>ques_title</th>\n",
              "      <th>ques_body</th>\n",
              "      <th>ans</th>\n",
              "      <th>is_answer</th>\n",
              "    </tr>\n",
              "  </thead>\n",
              "  <tbody>\n",
              "    <tr>\n",
              "      <th>0</th>\n",
              "      <td>12605170</td>\n",
              "      <td>17367020</td>\n",
              "      <td>Extract text per page with Python pdfMiner?</td>\n",
              "      <td>I have experimented with both pyPdf and pdfMin...</td>\n",
              "      <td>subprocess.call has the cwd keyword argument f...</td>\n",
              "      <td>0</td>\n",
              "    </tr>\n",
              "    <tr>\n",
              "      <th>1</th>\n",
              "      <td>16711325</td>\n",
              "      <td>25548040</td>\n",
              "      <td>python: iterate dictionary sorted by key as int</td>\n",
              "      <td>I have a python dictionary:\\nsteps = {\"5\":{}, ...</td>\n",
              "      <td>Modifying the sample axis, e.g. removing sampl...</td>\n",
              "      <td>0</td>\n",
              "    </tr>\n",
              "    <tr>\n",
              "      <th>2</th>\n",
              "      <td>35763593</td>\n",
              "      <td>2298388</td>\n",
              "      <td>Convert list of lists to list of dictionaries</td>\n",
              "      <td>I want to convert a list of lists to a list of...</td>\n",
              "      <td>Python does not support globals shared between...</td>\n",
              "      <td>0</td>\n",
              "    </tr>\n",
              "    <tr>\n",
              "      <th>3</th>\n",
              "      <td>992638</td>\n",
              "      <td>992645</td>\n",
              "      <td>How to setup twill for python 2.6 on Windows?</td>\n",
              "      <td>I have already downloaded twill 0.9. Also, I h...</td>\n",
              "      <td>easiest way is to just unzip the twill and kee...</td>\n",
              "      <td>1</td>\n",
              "    </tr>\n",
              "    <tr>\n",
              "      <th>4</th>\n",
              "      <td>23900344</td>\n",
              "      <td>21077644</td>\n",
              "      <td>How to response a unicode string in flask rest...</td>\n",
              "      <td>I am using flask.ext.rest to build a api. I wa...</td>\n",
              "      <td>self.set_value_int always returns None, so it'...</td>\n",
              "      <td>0</td>\n",
              "    </tr>\n",
              "    <tr>\n",
              "      <th>...</th>\n",
              "      <td>...</td>\n",
              "      <td>...</td>\n",
              "      <td>...</td>\n",
              "      <td>...</td>\n",
              "      <td>...</td>\n",
              "      <td>...</td>\n",
              "    </tr>\n",
              "    <tr>\n",
              "      <th>1668355</th>\n",
              "      <td>23409982</td>\n",
              "      <td>23410278</td>\n",
              "      <td>Python regex to get some/not all quote marks o...</td>\n",
              "      <td>i have a .csv file with all fields separated b...</td>\n",
              "      <td>If you don't want to match quotes at beginning...</td>\n",
              "      <td>1</td>\n",
              "    </tr>\n",
              "    <tr>\n",
              "      <th>1668356</th>\n",
              "      <td>1750991</td>\n",
              "      <td>37381197</td>\n",
              "      <td>Peeking in a heap in python</td>\n",
              "      <td>What is the official way of peeking in a pytho...</td>\n",
              "      <td>If you want to work with Python objects rather...</td>\n",
              "      <td>0</td>\n",
              "    </tr>\n",
              "    <tr>\n",
              "      <th>1668357</th>\n",
              "      <td>12073975</td>\n",
              "      <td>7586821</td>\n",
              "      <td>remove a block of text in a file with python</td>\n",
              "      <td>I am trying to remove a block of text in the a...</td>\n",
              "      <td>nss3.dll is linked to the following DLLs, whic...</td>\n",
              "      <td>0</td>\n",
              "    </tr>\n",
              "    <tr>\n",
              "      <th>1668358</th>\n",
              "      <td>2637038</td>\n",
              "      <td>13403380</td>\n",
              "      <td>how to open dwg file extension with python</td>\n",
              "      <td>I have file with extension .dwg (AutoCAD) and ...</td>\n",
              "      <td>The last element of the energies list is actua...</td>\n",
              "      <td>0</td>\n",
              "    </tr>\n",
              "    <tr>\n",
              "      <th>1668359</th>\n",
              "      <td>14324472</td>\n",
              "      <td>14324498</td>\n",
              "      <td>random boolean by percentage</td>\n",
              "      <td>I'm trying to get a get a random boolean but w...</td>\n",
              "      <td>How about:\\ndef reset(percent=50):\\n    return...</td>\n",
              "      <td>1</td>\n",
              "    </tr>\n",
              "  </tbody>\n",
              "</table>\n",
              "<p>1668360 rows × 6 columns</p>\n",
              "</div>"
            ],
            "text/plain": [
              "          ques_id  ...  is_answer\n",
              "0        12605170  ...          0\n",
              "1        16711325  ...          0\n",
              "2        35763593  ...          0\n",
              "3          992638  ...          1\n",
              "4        23900344  ...          0\n",
              "...           ...  ...        ...\n",
              "1668355  23409982  ...          1\n",
              "1668356   1750991  ...          0\n",
              "1668357  12073975  ...          0\n",
              "1668358   2637038  ...          0\n",
              "1668359  14324472  ...          1\n",
              "\n",
              "[1668360 rows x 6 columns]"
            ]
          },
          "metadata": {
            "tags": []
          },
          "execution_count": 42
        }
      ]
    },
    {
      "cell_type": "code",
      "metadata": {
        "id": "Rgf7J5sQyLcz"
      },
      "source": [
        ""
      ],
      "execution_count": null,
      "outputs": []
    }
  ]
}