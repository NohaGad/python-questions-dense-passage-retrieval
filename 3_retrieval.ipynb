{
  "cells": [
    {
      "cell_type": "code",
      "execution_count": null,
      "metadata": {
        "colab": {
          "base_uri": "https://localhost:8080/"
        },
        "id": "6qzo8GkZ6bqx",
        "outputId": "c3de7b06-51b5-479e-8927-c0b104d1b207"
      },
      "outputs": [
        {
          "name": "stdout",
          "output_type": "stream",
          "text": [
            "Collecting transformers\n",
            "\u001b[?25l  Downloading https://files.pythonhosted.org/packages/fd/1a/41c644c963249fd7f3836d926afa1e3f1cc234a1c40d80c5f03ad8f6f1b2/transformers-4.8.2-py3-none-any.whl (2.5MB)\n",
            "\u001b[K     |████████████████████████████████| 2.5MB 4.3MB/s \n",
            "\u001b[?25hRequirement already satisfied: packaging in /usr/local/lib/python3.7/dist-packages (from transformers) (20.9)\n",
            "Requirement already satisfied: numpy>=1.17 in /usr/local/lib/python3.7/dist-packages (from transformers) (1.19.5)\n",
            "Requirement already satisfied: importlib-metadata; python_version < \"3.8\" in /usr/local/lib/python3.7/dist-packages (from transformers) (4.5.0)\n",
            "Collecting huggingface-hub==0.0.12\n",
            "  Downloading https://files.pythonhosted.org/packages/2f/ee/97e253668fda9b17e968b3f97b2f8e53aa0127e8807d24a547687423fe0b/huggingface_hub-0.0.12-py3-none-any.whl\n",
            "Requirement already satisfied: filelock in /usr/local/lib/python3.7/dist-packages (from transformers) (3.0.12)\n",
            "Collecting sacremoses\n",
            "\u001b[?25l  Downloading https://files.pythonhosted.org/packages/75/ee/67241dc87f266093c533a2d4d3d69438e57d7a90abb216fa076e7d475d4a/sacremoses-0.0.45-py3-none-any.whl (895kB)\n",
            "\u001b[K     |████████████████████████████████| 901kB 48.8MB/s \n",
            "\u001b[?25hRequirement already satisfied: pyyaml in /usr/local/lib/python3.7/dist-packages (from transformers) (3.13)\n",
            "Requirement already satisfied: tqdm>=4.27 in /usr/local/lib/python3.7/dist-packages (from transformers) (4.41.1)\n",
            "Requirement already satisfied: requests in /usr/local/lib/python3.7/dist-packages (from transformers) (2.23.0)\n",
            "Requirement already satisfied: regex!=2019.12.17 in /usr/local/lib/python3.7/dist-packages (from transformers) (2019.12.20)\n",
            "Collecting tokenizers<0.11,>=0.10.1\n",
            "\u001b[?25l  Downloading https://files.pythonhosted.org/packages/d4/e2/df3543e8ffdab68f5acc73f613de9c2b155ac47f162e725dcac87c521c11/tokenizers-0.10.3-cp37-cp37m-manylinux_2_5_x86_64.manylinux1_x86_64.manylinux_2_12_x86_64.manylinux2010_x86_64.whl (3.3MB)\n",
            "\u001b[K     |████████████████████████████████| 3.3MB 49.2MB/s \n",
            "\u001b[?25hRequirement already satisfied: pyparsing>=2.0.2 in /usr/local/lib/python3.7/dist-packages (from packaging->transformers) (2.4.7)\n",
            "Requirement already satisfied: zipp>=0.5 in /usr/local/lib/python3.7/dist-packages (from importlib-metadata; python_version < \"3.8\"->transformers) (3.4.1)\n",
            "Requirement already satisfied: typing-extensions>=3.6.4; python_version < \"3.8\" in /usr/local/lib/python3.7/dist-packages (from importlib-metadata; python_version < \"3.8\"->transformers) (3.7.4.3)\n",
            "Requirement already satisfied: six in /usr/local/lib/python3.7/dist-packages (from sacremoses->transformers) (1.15.0)\n",
            "Requirement already satisfied: click in /usr/local/lib/python3.7/dist-packages (from sacremoses->transformers) (7.1.2)\n",
            "Requirement already satisfied: joblib in /usr/local/lib/python3.7/dist-packages (from sacremoses->transformers) (1.0.1)\n",
            "Requirement already satisfied: chardet<4,>=3.0.2 in /usr/local/lib/python3.7/dist-packages (from requests->transformers) (3.0.4)\n",
            "Requirement already satisfied: idna<3,>=2.5 in /usr/local/lib/python3.7/dist-packages (from requests->transformers) (2.10)\n",
            "Requirement already satisfied: urllib3!=1.25.0,!=1.25.1,<1.26,>=1.21.1 in /usr/local/lib/python3.7/dist-packages (from requests->transformers) (1.24.3)\n",
            "Requirement already satisfied: certifi>=2017.4.17 in /usr/local/lib/python3.7/dist-packages (from requests->transformers) (2021.5.30)\n",
            "Installing collected packages: huggingface-hub, sacremoses, tokenizers, transformers\n",
            "Successfully installed huggingface-hub-0.0.12 sacremoses-0.0.45 tokenizers-0.10.3 transformers-4.8.2\n"
          ]
        }
      ],
      "source": [
        "!pip install transformers"
      ]
    },
    {
      "cell_type": "code",
      "execution_count": null,
      "metadata": {
        "id": "JUM1re8sP04j"
      },
      "outputs": [],
      "source": [
        "from google.colab import drive\n",
        "import pandas as pd\n",
        "from transformers import AutoTokenizer, AutoModel,AdamW,get_linear_schedule_with_warmup\n",
        "import torch\n",
        "import tensorflow as tf\n",
        "import numpy as np\n",
        "import torch.nn as nn\n",
        "from torch.utils.data import DataLoader, RandomSampler, SequentialSampler,TensorDataset,Dataset\n",
        "from sklearn.model_selection import train_test_split\n",
        "from collections import defaultdict\n",
        "import matplotlib.pyplot as plt\n",
        "from datetime import datetime"
      ]
    },
    {
      "cell_type": "code",
      "execution_count": null,
      "metadata": {
        "colab": {
          "base_uri": "https://localhost:8080/"
        },
        "id": "9JzPRP3PRiEz",
        "outputId": "170fc426-ce31-4e33-d6ec-2ea05cdd23d3"
      },
      "outputs": [
        {
          "name": "stdout",
          "output_type": "stream",
          "text": [
            "Found GPU at: /device:GPU:0\n",
            "There are 1 GPU(s) available.\n",
            "We will use the GPU: Tesla P100-PCIE-16GB\n"
          ]
        }
      ],
      "source": [
        "# Get the GPU device name.\n",
        "device_name = tf.test.gpu_device_name()\n",
        "\n",
        "# The device name should look like the following:\n",
        "if device_name == '/device:GPU:0':\n",
        "    print('Found GPU at: {}'.format(device_name))\n",
        "else:\n",
        "    raise SystemError('GPU device not found')\n",
        "\n",
        "\n",
        "# If there's a GPU available...\n",
        "if torch.cuda.is_available():    \n",
        "\n",
        "    # Tell PyTorch to use the GPU.    \n",
        "    device = torch.device(\"cuda\")\n",
        "\n",
        "    print('There are %d GPU(s) available.' % torch.cuda.device_count())\n",
        "\n",
        "    print('We will use the GPU:', torch.cuda.get_device_name(0))\n",
        "\n",
        "# If not...\n",
        "else:\n",
        "    print('No GPU available, using the CPU instead.')\n",
        "    device = torch.device(\"cpu\")"
      ]
    },
    {
      "cell_type": "markdown",
      "metadata": {
        "id": "gkSQTu7Ypit0"
      },
      "source": [
        "**We** first split the data into a train and validation and test set. The test set will be used later to evaluate our model."
      ]
    },
    {
      "cell_type": "code",
      "execution_count": null,
      "metadata": {
        "colab": {
          "base_uri": "https://localhost:8080/"
        },
        "id": "BicIsQ_g-nGY",
        "outputId": "13b13fd2-1a2c-4456-ce09-a7848835bea0"
      },
      "outputs": [
        {
          "name": "stdout",
          "output_type": "stream",
          "text": [
            "Drive already mounted at /content/drive; to attempt to forcibly remount, call drive.mount(\"/content/drive\", force_remount=True).\n",
            "/content/drive/MyDrive/Kaggle/stackoverflow/final\n"
          ]
        }
      ],
      "source": [
        "drive.mount('/content/drive')\n",
        "%cd /content/drive/MyDrive/Kaggle/stackoverflow/final"
      ]
    },
    {
      "cell_type": "code",
      "execution_count": null,
      "metadata": {
        "colab": {
          "base_uri": "https://localhost:8080/"
        },
        "id": "EGF6XnXE7sAJ",
        "outputId": "fa3ebb87-74c9-499f-a908-e4e40d5d7e76"
      },
      "outputs": [
        {
          "name": "stdout",
          "output_type": "stream",
          "text": [
            "length of train: 1626900, length of validation: 24776, length of test: 16684\n"
          ]
        }
      ],
      "source": [
        "# df = pd.read_pickle(\"../big_dataset.pkl\")\n",
        "# df = df.reset_index(drop=True)\n",
        "# train_dataset,test_dataset = train_test_split(df, test_size=0.01,stratify = df[\"is_answer\"])\n",
        "# train_dataset,val_dataset = train_test_split(train_dataset, test_size=0.015,stratify = train_dataset[\"is_answer\"])\n",
        "# print(f\"length of train: {len(train_dataset)}, length of validation: {len(val_dataset)}, length of test: {len(test_dataset)}\")\n",
        "# del df #to reduce memory usage\n",
        "# pd.to_pickle(train_dataset,\"train_ds_big.pkl\")\n",
        "# pd.to_pickle(val_dataset,\"val_ds_big.pkl\")\n",
        "# pd.to_pickle(test_dataset,\"test_ds_big.pkl\")"
      ]
    },
    {
      "cell_type": "code",
      "execution_count": null,
      "metadata": {
        "colab": {
          "base_uri": "https://localhost:8080/"
        },
        "id": "5U6ZyU2GQAgZ",
        "outputId": "a27ea3ba-bfd1-4ba6-8417-75226a1fb785"
      },
      "outputs": [
        {
          "name": "stdout",
          "output_type": "stream",
          "text": [
            "length of train: 1618683, length of validation: 24651, length of test: 25026\n"
          ]
        }
      ],
      "source": [
        "train_dataset = pd.read_pickle(\"train_ds_big.pkl\")\n",
        "val_dataset = pd.read_pickle(\"val_ds_big.pkl\")\n",
        "test_dataset = pd.read_pickle(\"test_ds_big.pkl\")\n",
        "print(f\"length of train: {len(train_dataset)}, length of validation: {len(val_dataset)}, length of test: {len(test_dataset)}\")\n"
      ]
    },
    {
      "cell_type": "markdown",
      "metadata": {
        "id": "MuyDIxLwcRGX"
      },
      "source": [
        "**We**  select only the question pairs that have answers to train the model. <br>\n",
        "We build two batches as input for the network and we assume that question $q_i$ (question $i$ in the first batch) is a answer of $a_i$ (answer $i$ in the second batch), but all other answers in the second batch are not answers of $q_i$.  \n",
        "The test set uses the original pairs of questions and the status describing if the answers are answers."
      ]
    },
    {
      "cell_type": "code",
      "execution_count": null,
      "metadata": {
        "colab": {
          "base_uri": "https://localhost:8080/"
        },
        "id": "EsthnEy7_c6K",
        "outputId": "5e7b9043-8dce-4b76-a9ee-8a1480d77df3"
      },
      "outputs": [
        {
          "name": "stdout",
          "output_type": "stream",
          "text": [
            "length of postive examples in train dataset: 809341\n",
            "length of postive examples in validation dataset: 12326\n",
            "length of postive examples in validation dataset: 12513\n"
          ]
        }
      ],
      "source": [
        "train_dataset = train_dataset[train_dataset[\"is_answer\"]==1]\n",
        "print(f\"length of postive examples in train dataset: {len(train_dataset)}\")\n",
        "val_dataset = val_dataset[val_dataset[\"is_answer\"]==1]\n",
        "print(f\"length of postive examples in validation dataset: {len(val_dataset)}\")\n",
        "test_dataset = test_dataset[test_dataset[\"is_answer\"]==1]\n",
        "print(f\"length of postive examples in validation dataset: {len(test_dataset)}\")"
      ]
    },
    {
      "cell_type": "code",
      "execution_count": null,
      "metadata": {
        "id": "lOEv5RSEbcba"
      },
      "outputs": [],
      "source": [
        "class QADataset(Dataset):\n",
        "\n",
        "    def __init__(self,df):\n",
        "        \n",
        "        self.ques_title = df[\"ques_title\"].to_numpy()\n",
        "        self.ques_body = df[\"ques_body\"].to_numpy()\n",
        "        self.ans = df[\"ans\"].to_numpy()\n",
        "        self.label = df[\"is_answer\"].to_numpy()\n",
        "        \n",
        "        \n",
        "\n",
        "    # support indexing such that dataset[i] can be used to get i-th sample\n",
        "    def __getitem__(self, index):\n",
        "        return { \n",
        "            \"ques_title\":self.ques_title[index],\n",
        "            \"ques_body\":self.ques_body[index],\n",
        "            \"ans\":self.ans[index],\n",
        "            \"label\":self.label[index]\n",
        "        }\n",
        "\n",
        "    # we can call len(dataset) to return the size\n",
        "    def __len__(self):\n",
        "        return len(self.ans)"
      ]
    },
    {
      "cell_type": "code",
      "execution_count": null,
      "metadata": {
        "id": "XQ4hiWE5vyfp"
      },
      "outputs": [],
      "source": [
        "model_name=\"distilbert-base-uncased\""
      ]
    },
    {
      "cell_type": "code",
      "execution_count": null,
      "metadata": {
        "id": "PEMO8KvQjCB0"
      },
      "outputs": [],
      "source": [
        "class BertEncoder(nn.Module):\n",
        "    def __init__(self):\n",
        "        super(BertOverflowEncoder, self).__init__()\n",
        "        self.bert = AutoModel.from_pretrained(model_name)\n",
        "        \n",
        "\n",
        "    def forward(self, input_ids, attention_mask):\n",
        "        output = self.bert(input_ids=input_ids, attention_mask=attention_mask)\n",
        "        hidden_state = output[0]  # (bs, seq_len, dim)\n",
        "        pooled_output = hidden_state[:, 0]  # (bs, dim)\n",
        "\n",
        "        return pooled_output\n",
        "\n",
        "class DPR(nn.Module):\n",
        "    def __init__(self,question_encoder,answer_encoder):\n",
        "          super(DPR, self).__init__()\n",
        "          self.question_encoder = question_encoder\n",
        "          self.answer_encoder = answer_encoder\n",
        "\n",
        "    def forward(self, ques_ids, ques_mask, ans_ids, ans_mask):\n",
        "        ques_encoding = self.question_encoder(input_ids=ques_ids, attention_mask=ques_mask)\n",
        "        ans_encoding = self.answer_encoder(input_ids=ans_ids, attention_mask=ans_mask)\n",
        "\n",
        "        return ques_encoding,ans_encoding\n",
        "\n",
        "def negative_log_loss(q_vectors,ctx_vectors,loss_scale=None):\n",
        "        \"\"\"\n",
        "        Computes nll loss for the given lists of question and ctx vectors.\n",
        "        :return: a tuple of loss value and amount of correct predictions per batch\n",
        "        \"\"\"\n",
        "        # q_vector: n1 x D, ctx_vectors: n2 x D, result n1 x n2\n",
        "        \n",
        "        scores = torch.matmul(q_vectors, torch.transpose(ctx_vectors, 0, 1))\n",
        "\n",
        "        if len(q_vectors.size()) > 1:\n",
        "            q_num = q_vectors.size(0)\n",
        "            scores = scores.view(q_num, -1)\n",
        "\n",
        "        softmax_scores = nn.functional.log_softmax(scores, dim=1)\n",
        "        labels = torch.tensor(range(len(scores)), dtype=torch.long, device=device)\n",
        "\n",
        "        loss = nn.functional.nll_loss(\n",
        "            softmax_scores,\n",
        "            labels,\n",
        "            reduction=\"mean\",\n",
        "        )\n",
        "\n",
        "        max_score, max_idxs = torch.max(softmax_scores, 1)\n",
        "        correct_predictions_count = (max_idxs == labels).to(max_idxs.device).sum()\n",
        "\n",
        "        if loss_scale:\n",
        "            loss.mul_(loss_scale)\n",
        "\n",
        "        return loss, correct_predictions_count.item()"
      ]
    },
    {
      "cell_type": "code",
      "execution_count": null,
      "metadata": {
        "id": "3WMGCVs9GssV"
      },
      "outputs": [],
      "source": [
        "save_counter = 0\n",
        "def save_best(model):\n",
        "    torch.save(model.state_dict(), 'best_model_state_dot.bin')\n",
        "\n",
        "def save_recent(model,history,best_loss):\n",
        "    global save_counter\n",
        "    print(f\"Saved at {datetime.now().strftime('%H:%M:%S')}\")\n",
        "    context= {\n",
        "        \"history\": history,\n",
        "        \"best_loss\":best_loss\n",
        "        }\n",
        "    pd.to_pickle(context,\"context_dot.pkl\")\n",
        "    torch.save(model.state_dict(), f'recent_model_state{save_counter}_dot.bin')\n",
        "    save_counter = 1- save_counter\n",
        "\n",
        "def load():\n",
        "    context = pd.read_pickle(\"context_dot.pkl\")\n",
        "    best_state = torch.load('recent_model_state1_dot.bin');\n",
        "    return best_state,context\n"
      ]
    },
    {
      "cell_type": "code",
      "execution_count": null,
      "metadata": {
        "id": "xDLuYY4MoG-S"
      },
      "outputs": [],
      "source": [
        "batch_size = 16\n",
        "adam_eps =  1e-8\n",
        "adam_betas =  (0.9, 0.999)\n",
        "max_grad_norm =  1.0\n",
        "small_batches_step = 100\n",
        "big_batches_step = 200\n",
        "weight_decay = 0.0\n",
        "learning_rate =  1e-5\n",
        "\n",
        "# Linear warmup over warmup_steps.\n",
        "warmup_steps = 1200 #prev 1000\n",
        "\n",
        "# Total number of training epochs to perform.\n",
        "num_train_epochs=  4\n",
        "\n",
        "#BERT\n",
        "ques_max_length=256\n",
        "ans_max_length= 256"
      ]
    },
    {
      "cell_type": "code",
      "execution_count": null,
      "metadata": {
        "id": "SwNoAnR3DDvL"
      },
      "outputs": [],
      "source": [
        "train_data_loader = DataLoader(QADataset(train_dataset),batch_size=batch_size,shuffle=True)\n",
        "val_data_loader = DataLoader(QADataset(val_dataset),batch_size=batch_size)\n",
        "test_data_loader = DataLoader(QADataset(test_dataset),batch_size=batch_size)"
      ]
    },
    {
      "cell_type": "code",
      "execution_count": null,
      "metadata": {
        "id": "QrKo5gBaDGV8"
      },
      "outputs": [],
      "source": [
        "tokenizer = AutoTokenizer.from_pretrained(model_name)"
      ]
    },
    {
      "cell_type": "code",
      "execution_count": null,
      "metadata": {
        "colab": {
          "base_uri": "https://localhost:8080/",
          "height": 1000,
          "referenced_widgets": [
            "0e731b6f773e435fa68f71f0a5b13f92",
            "575ac7fb8c794006a9afc34867ece5f4",
            "a91a2d21aabc4b44b02dbdeecaa81672",
            "f3800d9af1a6447cac954cdc0b270951",
            "cc18683023bf4c089c9274f0874d826b",
            "7003e0810c2147ca9c7a3fbf4fa58594",
            "789bcaec8ddb44d3b5bb32d92b6363f1",
            "df737e446eee4f9faaed72f1d0975385"
          ]
        },
        "id": "ipopIuUyhj4Q",
        "outputId": "a9caaf2d-2998-4914-b2de-ca0ef138ad07"
      },
      "outputs": [
        {
          "data": {
            "application/vnd.jupyter.widget-view+json": {
              "model_id": "0e731b6f773e435fa68f71f0a5b13f92",
              "version_major": 2,
              "version_minor": 0
            },
            "text/plain": [
              "HBox(children=(FloatProgress(value=0.0, description='Downloading', max=267967963.0, style=ProgressStyle(descri…"
            ]
          },
          "metadata": {
            "tags": []
          },
          "output_type": "display_data"
        },
        {
          "name": "stdout",
          "output_type": "stream",
          "text": [
            "\n"
          ]
        },
        {
          "name": "stderr",
          "output_type": "stream",
          "text": [
            "Some weights of the model checkpoint at distilbert-base-uncased were not used when initializing DistilBertModel: ['vocab_layer_norm.weight', 'vocab_transform.bias', 'vocab_projector.bias', 'vocab_projector.weight', 'vocab_transform.weight', 'vocab_layer_norm.bias']\n",
            "- This IS expected if you are initializing DistilBertModel from the checkpoint of a model trained on another task or with another architecture (e.g. initializing a BertForSequenceClassification model from a BertForPreTraining model).\n",
            "- This IS NOT expected if you are initializing DistilBertModel from the checkpoint of a model that you expect to be exactly identical (initializing a BertForSequenceClassification model from a BertForSequenceClassification model).\n",
            "Some weights of the model checkpoint at distilbert-base-uncased were not used when initializing DistilBertModel: ['vocab_layer_norm.weight', 'vocab_transform.bias', 'vocab_projector.bias', 'vocab_projector.weight', 'vocab_transform.weight', 'vocab_layer_norm.bias']\n",
            "- This IS expected if you are initializing DistilBertModel from the checkpoint of a model trained on another task or with another architecture (e.g. initializing a BertForSequenceClassification model from a BertForPreTraining model).\n",
            "- This IS NOT expected if you are initializing DistilBertModel from the checkpoint of a model that you expect to be exactly identical (initializing a BertForSequenceClassification model from a BertForSequenceClassification model).\n"
          ]
        },
        {
          "data": {
            "text/plain": [
              "DPR(\n",
              "  (question_encoder): BertOverflowEncoder(\n",
              "    (bert): DistilBertModel(\n",
              "      (embeddings): Embeddings(\n",
              "        (word_embeddings): Embedding(30522, 768, padding_idx=0)\n",
              "        (position_embeddings): Embedding(512, 768)\n",
              "        (LayerNorm): LayerNorm((768,), eps=1e-12, elementwise_affine=True)\n",
              "        (dropout): Dropout(p=0.1, inplace=False)\n",
              "      )\n",
              "      (transformer): Transformer(\n",
              "        (layer): ModuleList(\n",
              "          (0): TransformerBlock(\n",
              "            (attention): MultiHeadSelfAttention(\n",
              "              (dropout): Dropout(p=0.1, inplace=False)\n",
              "              (q_lin): Linear(in_features=768, out_features=768, bias=True)\n",
              "              (k_lin): Linear(in_features=768, out_features=768, bias=True)\n",
              "              (v_lin): Linear(in_features=768, out_features=768, bias=True)\n",
              "              (out_lin): Linear(in_features=768, out_features=768, bias=True)\n",
              "            )\n",
              "            (sa_layer_norm): LayerNorm((768,), eps=1e-12, elementwise_affine=True)\n",
              "            (ffn): FFN(\n",
              "              (dropout): Dropout(p=0.1, inplace=False)\n",
              "              (lin1): Linear(in_features=768, out_features=3072, bias=True)\n",
              "              (lin2): Linear(in_features=3072, out_features=768, bias=True)\n",
              "            )\n",
              "            (output_layer_norm): LayerNorm((768,), eps=1e-12, elementwise_affine=True)\n",
              "          )\n",
              "          (1): TransformerBlock(\n",
              "            (attention): MultiHeadSelfAttention(\n",
              "              (dropout): Dropout(p=0.1, inplace=False)\n",
              "              (q_lin): Linear(in_features=768, out_features=768, bias=True)\n",
              "              (k_lin): Linear(in_features=768, out_features=768, bias=True)\n",
              "              (v_lin): Linear(in_features=768, out_features=768, bias=True)\n",
              "              (out_lin): Linear(in_features=768, out_features=768, bias=True)\n",
              "            )\n",
              "            (sa_layer_norm): LayerNorm((768,), eps=1e-12, elementwise_affine=True)\n",
              "            (ffn): FFN(\n",
              "              (dropout): Dropout(p=0.1, inplace=False)\n",
              "              (lin1): Linear(in_features=768, out_features=3072, bias=True)\n",
              "              (lin2): Linear(in_features=3072, out_features=768, bias=True)\n",
              "            )\n",
              "            (output_layer_norm): LayerNorm((768,), eps=1e-12, elementwise_affine=True)\n",
              "          )\n",
              "          (2): TransformerBlock(\n",
              "            (attention): MultiHeadSelfAttention(\n",
              "              (dropout): Dropout(p=0.1, inplace=False)\n",
              "              (q_lin): Linear(in_features=768, out_features=768, bias=True)\n",
              "              (k_lin): Linear(in_features=768, out_features=768, bias=True)\n",
              "              (v_lin): Linear(in_features=768, out_features=768, bias=True)\n",
              "              (out_lin): Linear(in_features=768, out_features=768, bias=True)\n",
              "            )\n",
              "            (sa_layer_norm): LayerNorm((768,), eps=1e-12, elementwise_affine=True)\n",
              "            (ffn): FFN(\n",
              "              (dropout): Dropout(p=0.1, inplace=False)\n",
              "              (lin1): Linear(in_features=768, out_features=3072, bias=True)\n",
              "              (lin2): Linear(in_features=3072, out_features=768, bias=True)\n",
              "            )\n",
              "            (output_layer_norm): LayerNorm((768,), eps=1e-12, elementwise_affine=True)\n",
              "          )\n",
              "          (3): TransformerBlock(\n",
              "            (attention): MultiHeadSelfAttention(\n",
              "              (dropout): Dropout(p=0.1, inplace=False)\n",
              "              (q_lin): Linear(in_features=768, out_features=768, bias=True)\n",
              "              (k_lin): Linear(in_features=768, out_features=768, bias=True)\n",
              "              (v_lin): Linear(in_features=768, out_features=768, bias=True)\n",
              "              (out_lin): Linear(in_features=768, out_features=768, bias=True)\n",
              "            )\n",
              "            (sa_layer_norm): LayerNorm((768,), eps=1e-12, elementwise_affine=True)\n",
              "            (ffn): FFN(\n",
              "              (dropout): Dropout(p=0.1, inplace=False)\n",
              "              (lin1): Linear(in_features=768, out_features=3072, bias=True)\n",
              "              (lin2): Linear(in_features=3072, out_features=768, bias=True)\n",
              "            )\n",
              "            (output_layer_norm): LayerNorm((768,), eps=1e-12, elementwise_affine=True)\n",
              "          )\n",
              "          (4): TransformerBlock(\n",
              "            (attention): MultiHeadSelfAttention(\n",
              "              (dropout): Dropout(p=0.1, inplace=False)\n",
              "              (q_lin): Linear(in_features=768, out_features=768, bias=True)\n",
              "              (k_lin): Linear(in_features=768, out_features=768, bias=True)\n",
              "              (v_lin): Linear(in_features=768, out_features=768, bias=True)\n",
              "              (out_lin): Linear(in_features=768, out_features=768, bias=True)\n",
              "            )\n",
              "            (sa_layer_norm): LayerNorm((768,), eps=1e-12, elementwise_affine=True)\n",
              "            (ffn): FFN(\n",
              "              (dropout): Dropout(p=0.1, inplace=False)\n",
              "              (lin1): Linear(in_features=768, out_features=3072, bias=True)\n",
              "              (lin2): Linear(in_features=3072, out_features=768, bias=True)\n",
              "            )\n",
              "            (output_layer_norm): LayerNorm((768,), eps=1e-12, elementwise_affine=True)\n",
              "          )\n",
              "          (5): TransformerBlock(\n",
              "            (attention): MultiHeadSelfAttention(\n",
              "              (dropout): Dropout(p=0.1, inplace=False)\n",
              "              (q_lin): Linear(in_features=768, out_features=768, bias=True)\n",
              "              (k_lin): Linear(in_features=768, out_features=768, bias=True)\n",
              "              (v_lin): Linear(in_features=768, out_features=768, bias=True)\n",
              "              (out_lin): Linear(in_features=768, out_features=768, bias=True)\n",
              "            )\n",
              "            (sa_layer_norm): LayerNorm((768,), eps=1e-12, elementwise_affine=True)\n",
              "            (ffn): FFN(\n",
              "              (dropout): Dropout(p=0.1, inplace=False)\n",
              "              (lin1): Linear(in_features=768, out_features=3072, bias=True)\n",
              "              (lin2): Linear(in_features=3072, out_features=768, bias=True)\n",
              "            )\n",
              "            (output_layer_norm): LayerNorm((768,), eps=1e-12, elementwise_affine=True)\n",
              "          )\n",
              "        )\n",
              "      )\n",
              "    )\n",
              "  )\n",
              "  (answer_encoder): BertOverflowEncoder(\n",
              "    (bert): DistilBertModel(\n",
              "      (embeddings): Embeddings(\n",
              "        (word_embeddings): Embedding(30522, 768, padding_idx=0)\n",
              "        (position_embeddings): Embedding(512, 768)\n",
              "        (LayerNorm): LayerNorm((768,), eps=1e-12, elementwise_affine=True)\n",
              "        (dropout): Dropout(p=0.1, inplace=False)\n",
              "      )\n",
              "      (transformer): Transformer(\n",
              "        (layer): ModuleList(\n",
              "          (0): TransformerBlock(\n",
              "            (attention): MultiHeadSelfAttention(\n",
              "              (dropout): Dropout(p=0.1, inplace=False)\n",
              "              (q_lin): Linear(in_features=768, out_features=768, bias=True)\n",
              "              (k_lin): Linear(in_features=768, out_features=768, bias=True)\n",
              "              (v_lin): Linear(in_features=768, out_features=768, bias=True)\n",
              "              (out_lin): Linear(in_features=768, out_features=768, bias=True)\n",
              "            )\n",
              "            (sa_layer_norm): LayerNorm((768,), eps=1e-12, elementwise_affine=True)\n",
              "            (ffn): FFN(\n",
              "              (dropout): Dropout(p=0.1, inplace=False)\n",
              "              (lin1): Linear(in_features=768, out_features=3072, bias=True)\n",
              "              (lin2): Linear(in_features=3072, out_features=768, bias=True)\n",
              "            )\n",
              "            (output_layer_norm): LayerNorm((768,), eps=1e-12, elementwise_affine=True)\n",
              "          )\n",
              "          (1): TransformerBlock(\n",
              "            (attention): MultiHeadSelfAttention(\n",
              "              (dropout): Dropout(p=0.1, inplace=False)\n",
              "              (q_lin): Linear(in_features=768, out_features=768, bias=True)\n",
              "              (k_lin): Linear(in_features=768, out_features=768, bias=True)\n",
              "              (v_lin): Linear(in_features=768, out_features=768, bias=True)\n",
              "              (out_lin): Linear(in_features=768, out_features=768, bias=True)\n",
              "            )\n",
              "            (sa_layer_norm): LayerNorm((768,), eps=1e-12, elementwise_affine=True)\n",
              "            (ffn): FFN(\n",
              "              (dropout): Dropout(p=0.1, inplace=False)\n",
              "              (lin1): Linear(in_features=768, out_features=3072, bias=True)\n",
              "              (lin2): Linear(in_features=3072, out_features=768, bias=True)\n",
              "            )\n",
              "            (output_layer_norm): LayerNorm((768,), eps=1e-12, elementwise_affine=True)\n",
              "          )\n",
              "          (2): TransformerBlock(\n",
              "            (attention): MultiHeadSelfAttention(\n",
              "              (dropout): Dropout(p=0.1, inplace=False)\n",
              "              (q_lin): Linear(in_features=768, out_features=768, bias=True)\n",
              "              (k_lin): Linear(in_features=768, out_features=768, bias=True)\n",
              "              (v_lin): Linear(in_features=768, out_features=768, bias=True)\n",
              "              (out_lin): Linear(in_features=768, out_features=768, bias=True)\n",
              "            )\n",
              "            (sa_layer_norm): LayerNorm((768,), eps=1e-12, elementwise_affine=True)\n",
              "            (ffn): FFN(\n",
              "              (dropout): Dropout(p=0.1, inplace=False)\n",
              "              (lin1): Linear(in_features=768, out_features=3072, bias=True)\n",
              "              (lin2): Linear(in_features=3072, out_features=768, bias=True)\n",
              "            )\n",
              "            (output_layer_norm): LayerNorm((768,), eps=1e-12, elementwise_affine=True)\n",
              "          )\n",
              "          (3): TransformerBlock(\n",
              "            (attention): MultiHeadSelfAttention(\n",
              "              (dropout): Dropout(p=0.1, inplace=False)\n",
              "              (q_lin): Linear(in_features=768, out_features=768, bias=True)\n",
              "              (k_lin): Linear(in_features=768, out_features=768, bias=True)\n",
              "              (v_lin): Linear(in_features=768, out_features=768, bias=True)\n",
              "              (out_lin): Linear(in_features=768, out_features=768, bias=True)\n",
              "            )\n",
              "            (sa_layer_norm): LayerNorm((768,), eps=1e-12, elementwise_affine=True)\n",
              "            (ffn): FFN(\n",
              "              (dropout): Dropout(p=0.1, inplace=False)\n",
              "              (lin1): Linear(in_features=768, out_features=3072, bias=True)\n",
              "              (lin2): Linear(in_features=3072, out_features=768, bias=True)\n",
              "            )\n",
              "            (output_layer_norm): LayerNorm((768,), eps=1e-12, elementwise_affine=True)\n",
              "          )\n",
              "          (4): TransformerBlock(\n",
              "            (attention): MultiHeadSelfAttention(\n",
              "              (dropout): Dropout(p=0.1, inplace=False)\n",
              "              (q_lin): Linear(in_features=768, out_features=768, bias=True)\n",
              "              (k_lin): Linear(in_features=768, out_features=768, bias=True)\n",
              "              (v_lin): Linear(in_features=768, out_features=768, bias=True)\n",
              "              (out_lin): Linear(in_features=768, out_features=768, bias=True)\n",
              "            )\n",
              "            (sa_layer_norm): LayerNorm((768,), eps=1e-12, elementwise_affine=True)\n",
              "            (ffn): FFN(\n",
              "              (dropout): Dropout(p=0.1, inplace=False)\n",
              "              (lin1): Linear(in_features=768, out_features=3072, bias=True)\n",
              "              (lin2): Linear(in_features=3072, out_features=768, bias=True)\n",
              "            )\n",
              "            (output_layer_norm): LayerNorm((768,), eps=1e-12, elementwise_affine=True)\n",
              "          )\n",
              "          (5): TransformerBlock(\n",
              "            (attention): MultiHeadSelfAttention(\n",
              "              (dropout): Dropout(p=0.1, inplace=False)\n",
              "              (q_lin): Linear(in_features=768, out_features=768, bias=True)\n",
              "              (k_lin): Linear(in_features=768, out_features=768, bias=True)\n",
              "              (v_lin): Linear(in_features=768, out_features=768, bias=True)\n",
              "              (out_lin): Linear(in_features=768, out_features=768, bias=True)\n",
              "            )\n",
              "            (sa_layer_norm): LayerNorm((768,), eps=1e-12, elementwise_affine=True)\n",
              "            (ffn): FFN(\n",
              "              (dropout): Dropout(p=0.1, inplace=False)\n",
              "              (lin1): Linear(in_features=768, out_features=3072, bias=True)\n",
              "              (lin2): Linear(in_features=3072, out_features=768, bias=True)\n",
              "            )\n",
              "            (output_layer_norm): LayerNorm((768,), eps=1e-12, elementwise_affine=True)\n",
              "          )\n",
              "        )\n",
              "      )\n",
              "    )\n",
              "  )\n",
              ")"
            ]
          },
          "execution_count": 15,
          "metadata": {
            "tags": []
          },
          "output_type": "execute_result"
        }
      ],
      "source": [
        "ques_encoder_model = BertOverflowEncoder()\n",
        "ans_encoder_model = BertOverflowEncoder()\n",
        "model = DPR(ques_encoder_model,ans_encoder_model)\n",
        "model.to(device)"
      ]
    },
    {
      "cell_type": "code",
      "execution_count": null,
      "metadata": {
        "id": "aCCeAdauDLEx"
      },
      "outputs": [],
      "source": [
        "optimizer = AdamW(model.parameters(), lr=learning_rate,weight_decay=weight_decay, eps=adam_eps,betas=adam_betas)\n",
        "\n",
        "total_steps = len(train_data_loader) * num_train_epochs\n",
        "\n",
        "scheduler = get_linear_schedule_with_warmup(\n",
        "  optimizer,\n",
        "  num_warmup_steps=warmup_steps,\n",
        "  num_training_steps=total_steps\n",
        ")"
      ]
    },
    {
      "cell_type": "code",
      "execution_count": null,
      "metadata": {
        "id": "vNq-61EuIvn_"
      },
      "outputs": [],
      "source": [
        "history = defaultdict(list)\n",
        "best_loss =1000"
      ]
    },
    {
      "cell_type": "code",
      "execution_count": null,
      "metadata": {
        "colab": {
          "base_uri": "https://localhost:8080/"
        },
        "id": "Y3F2TIPpCA1w",
        "outputId": "59ddb6a6-254f-417d-f13d-3197d12de806"
      },
      "outputs": [
        {
          "data": {
            "text/plain": [
              "<All keys matched successfully>"
            ]
          },
          "execution_count": 27,
          "metadata": {
            "tags": []
          },
          "output_type": "execute_result"
        }
      ],
      "source": [
        "# # load last state\n",
        "# last_state, context = load()\n",
        "# history,best_loss = context[\"history\"],context[\"best_loss\"]\n",
        "# model.load_state_dict(last_state)"
      ]
    },
    {
      "cell_type": "code",
      "execution_count": null,
      "metadata": {
        "id": "RG0RmNvb6njH"
      },
      "outputs": [],
      "source": [
        "def eval_model( model, data_loader, loss_fn):\n",
        "    losses = []\n",
        "    accuracy = []\n",
        "    model.eval()\n",
        "    with torch.no_grad():\n",
        "        for i, batch in enumerate(data_loader):\n",
        "            \n",
        "            ques_title_batch, ques_body_batch, ans_batch = batch[\"ques_title\"], batch['ques_body'], batch[\"ans\"]      \n",
        "            ques_encoding =tokenizer.__call__(\n",
        "                ques_title_batch,\n",
        "                text_pair = ques_body_batch,\n",
        "                truncation=True,\n",
        "                max_length=ques_max_length,\n",
        "                padding='longest',\n",
        "                return_tensors = 'pt'\n",
        "            )  \n",
        "\n",
        "            ans_encoding =tokenizer.__call__(\n",
        "                ans_batch,\n",
        "                truncation=True,\n",
        "                max_length=ans_max_length,\n",
        "                padding='longest',\n",
        "                return_tensors = 'pt'\n",
        "            )\n",
        "            \n",
        "            out1,out2 = model(\n",
        "                    ques_encoding[\"input_ids\"].to(device),\n",
        "                    ques_encoding[\"attention_mask\"].to(device),\n",
        "                    ans_encoding[\"input_ids\"].to(device),\n",
        "                    ans_encoding[\"attention_mask\"].to(device)\n",
        "                )\n",
        "            \n",
        "            loss,correct_count = loss_fn(out1,out2)\n",
        "            losses.append(loss.item())\n",
        "            accuracy.append(correct_count/batch_size)\n",
        "\n",
        "    model.train()\n",
        "    return np.mean(losses), np.mean(accuracy)"
      ]
    },
    {
      "cell_type": "code",
      "execution_count": null,
      "metadata": {
        "id": "ZJjOe-sC5QVs"
      },
      "outputs": [],
      "source": [
        "def train_epoch( model, data_loader, loss_fn, optimizer,scheduler,epoch):\n",
        "    global best_loss\n",
        "    model.train()\n",
        "    losses = []\n",
        "    accuracy = []\n",
        "\n",
        "    for i, batch in enumerate(data_loader):\n",
        "        #tokenize\n",
        "\n",
        "        ques_title_batch, ques_body_batch, ans_batch = batch[\"ques_title\"], batch['ques_body'], batch[\"ans\"]      \n",
        "        ques_encoding =tokenizer.__call__(\n",
        "            ques_title_batch,\n",
        "            text_pair = ques_body_batch,\n",
        "            truncation=True,\n",
        "            max_length=ques_max_length,\n",
        "            padding='longest',\n",
        "            return_tensors = 'pt'\n",
        "        )  \n",
        "\n",
        "        ans_encoding =tokenizer.__call__(\n",
        "            ans_batch,\n",
        "            truncation=True,\n",
        "            max_length=ans_max_length,\n",
        "            padding='longest',\n",
        "            return_tensors = 'pt'\n",
        "        )\n",
        "        #forward\n",
        "        out1,out2 = model(\n",
        "                ques_encoding[\"input_ids\"].to(device),\n",
        "                ques_encoding[\"attention_mask\"].to(device),\n",
        "                ans_encoding[\"input_ids\"].to(device),\n",
        "                ans_encoding[\"attention_mask\"].to(device)\n",
        "            )\n",
        "\n",
        "        optimizer.zero_grad()\n",
        "        loss,correct_count = loss_fn(out1,out2)\n",
        "        losses.append(loss.item())\n",
        "        accuracy.append(correct_count/batch_size)\n",
        "        history[\"batch_loss\"].append(loss.item())\n",
        "        history[\"batch_acc\"].append(correct_count/batch_size)\n",
        "\n",
        "        #backward\n",
        "        loss.backward()\n",
        "        nn.utils.clip_grad_norm_(model.parameters(), max_norm=max_grad_norm)\n",
        "        optimizer.step()\n",
        "        scheduler.step()\n",
        "\n",
        "        #save\n",
        "        if (i+1)%2000==0:\n",
        "            save_recent(model,history,best_loss)\n",
        "            l = np.mean(losses)\n",
        "            acc =  np.mean(accuracy)\n",
        "            print(f'Epoch [{epoch+1}/{num_train_epochs}], Step [{i+1}/{len(data_loader)}], Small Step Train Loss:{l:.4f}, Train Accuracy:{acc*100:.4f}%')\n",
        "            print( \"-\" * 20)\n",
        "\n",
        "        if (i+1)%10000==0 or i+1 == len(data_loader):\n",
        "            l = np.mean(losses)\n",
        "            acc =  np.mean(accuracy)\n",
        "            val_loss,val_acc = eval_model(model,val_data_loader,loss_fn)\n",
        "\n",
        "            history['train_loss'].append(l)\n",
        "            history['train_acc'].append(acc)\n",
        "\n",
        "            history['val_acc'].append(val_acc)\n",
        "            history['val_loss'].append(val_loss)\n",
        "\n",
        "            print(f'Epoch [{epoch+1}/{num_train_epochs}], Step [{i+1}/{len(data_loader)}], Big Step Train Loss:{l:.4f}, Validation Loss:{val_loss:.4f}')\n",
        "            print(f'Epoch [{epoch+1}/{num_train_epochs}], Step [{i+1}/{len(data_loader)}], Big Step Train Accuracy:{acc*100:.4f}%, Validation Accuracy:{val_acc*100:.4f}%')\n",
        "            print( \"-\" * 20)\n",
        "\n",
        "            #save best model weight (based on validation)\n",
        "            if val_loss < best_loss:\n",
        "                save_best(model)\n",
        "                best_loss = val_loss\n",
        "            save_recent(model,history,best_loss)\n",
        "\n",
        "    return np.mean(losses), np.mean(accuracy)"
      ]
    },
    {
      "cell_type": "code",
      "execution_count": null,
      "metadata": {
        "colab": {
          "base_uri": "https://localhost:8080/",
          "height": 1000
        },
        "id": "qH2vuzHdwgwk",
        "outputId": "c8ce8a98-701b-463b-c0a8-b069ee7354d0"
      },
      "outputs": [
        {
          "name": "stdout",
          "output_type": "stream",
          "text": [
            "Saved at 16:15:21\n",
            "Epoch [1/4], Step [2000/50584], Small Step Train Loss:0.9915, Train Accuracy:77.8563%\n",
            "--------------------\n",
            "Saved at 16:29:23\n",
            "Epoch [1/4], Step [4000/50584], Small Step Train Loss:0.6658, Train Accuracy:83.8172%\n",
            "--------------------\n",
            "Saved at 16:43:24\n",
            "Epoch [1/4], Step [6000/50584], Small Step Train Loss:0.5426, Train Accuracy:86.1854%\n",
            "--------------------\n",
            "Saved at 16:57:26\n",
            "Epoch [1/4], Step [8000/50584], Small Step Train Loss:0.4747, Train Accuracy:87.6281%\n",
            "--------------------\n",
            "Saved at 17:11:27\n",
            "Epoch [1/4], Step [10000/50584], Small Step Train Loss:0.4305, Train Accuracy:88.6131%\n",
            "--------------------\n",
            "Epoch [1/4], Step [10000/50584], Big Step Train Loss:0.4305, Validation Loss:0.1969\n",
            "Epoch [1/4], Step [10000/50584], Big Step Train Accuracy:88.6131%, Validation Accuracy:93.8959%\n",
            "--------------------\n",
            "Saved at 17:13:23\n",
            "Saved at 17:27:25\n",
            "Epoch [1/4], Step [12000/50584], Small Step Train Loss:0.3980, Train Accuracy:89.3687%\n",
            "--------------------\n",
            "Saved at 17:41:26\n",
            "Epoch [1/4], Step [14000/50584], Small Step Train Loss:0.3731, Train Accuracy:89.9701%\n",
            "--------------------\n",
            "Saved at 17:55:28\n",
            "Epoch [1/4], Step [16000/50584], Small Step Train Loss:0.3532, Train Accuracy:90.4527%\n",
            "--------------------\n",
            "Saved at 18:09:32\n",
            "Epoch [1/4], Step [18000/50584], Small Step Train Loss:0.3372, Train Accuracy:90.8486%\n",
            "--------------------\n",
            "Saved at 18:23:35\n",
            "Epoch [1/4], Step [20000/50584], Small Step Train Loss:0.3240, Train Accuracy:91.1747%\n",
            "--------------------\n",
            "Epoch [1/4], Step [20000/50584], Big Step Train Loss:0.3240, Validation Loss:0.1593\n",
            "Epoch [1/4], Step [20000/50584], Big Step Train Accuracy:91.1747%, Validation Accuracy:95.2335%\n",
            "--------------------\n",
            "Saved at 18:25:32\n",
            "Saved at 18:39:35\n",
            "Epoch [1/4], Step [22000/50584], Small Step Train Loss:0.3126, Train Accuracy:91.4759%\n",
            "--------------------\n",
            "Saved at 18:53:37\n",
            "Epoch [1/4], Step [24000/50584], Small Step Train Loss:0.3027, Train Accuracy:91.7326%\n",
            "--------------------\n",
            "Saved at 19:07:39\n",
            "Epoch [1/4], Step [26000/50584], Small Step Train Loss:0.2941, Train Accuracy:91.9599%\n",
            "--------------------\n",
            "Saved at 19:21:42\n",
            "Epoch [1/4], Step [28000/50584], Small Step Train Loss:0.2863, Train Accuracy:92.1614%\n",
            "--------------------\n",
            "Saved at 19:35:42\n",
            "Epoch [1/4], Step [30000/50584], Small Step Train Loss:0.2789, Train Accuracy:92.3521%\n",
            "--------------------\n",
            "Epoch [1/4], Step [30000/50584], Big Step Train Loss:0.2789, Validation Loss:0.1632\n",
            "Epoch [1/4], Step [30000/50584], Big Step Train Accuracy:92.3521%, Validation Accuracy:95.7928%\n",
            "--------------------\n",
            "Saved at 19:37:36\n",
            "Saved at 19:51:36\n",
            "Epoch [1/4], Step [32000/50584], Small Step Train Loss:0.2727, Train Accuracy:92.5246%\n",
            "--------------------\n",
            "Saved at 20:05:34\n",
            "Epoch [1/4], Step [34000/50584], Small Step Train Loss:0.2670, Train Accuracy:92.6798%\n",
            "--------------------\n",
            "Saved at 20:19:33\n",
            "Epoch [1/4], Step [36000/50584], Small Step Train Loss:0.2615, Train Accuracy:92.8257%\n",
            "--------------------\n",
            "Saved at 20:33:32\n",
            "Epoch [1/4], Step [38000/50584], Small Step Train Loss:0.2568, Train Accuracy:92.9503%\n",
            "--------------------\n",
            "Saved at 20:47:32\n",
            "Epoch [1/4], Step [40000/50584], Small Step Train Loss:0.2522, Train Accuracy:93.0758%\n",
            "--------------------\n",
            "Epoch [1/4], Step [40000/50584], Big Step Train Loss:0.2522, Validation Loss:0.1410\n",
            "Epoch [1/4], Step [40000/50584], Big Step Train Accuracy:93.0758%, Validation Accuracy:95.9549%\n",
            "--------------------\n",
            "Saved at 20:49:28\n",
            "Saved at 21:03:28\n",
            "Epoch [1/4], Step [42000/50584], Small Step Train Loss:0.2479, Train Accuracy:93.1973%\n",
            "--------------------\n",
            "Saved at 21:17:26\n",
            "Epoch [1/4], Step [44000/50584], Small Step Train Loss:0.2436, Train Accuracy:93.3195%\n",
            "--------------------\n",
            "Saved at 21:31:24\n",
            "Epoch [1/4], Step [46000/50584], Small Step Train Loss:0.2398, Train Accuracy:93.4219%\n",
            "--------------------\n",
            "Saved at 21:45:23\n",
            "Epoch [1/4], Step [48000/50584], Small Step Train Loss:0.2361, Train Accuracy:93.5221%\n",
            "--------------------\n",
            "Saved at 21:59:22\n",
            "Epoch [1/4], Step [50000/50584], Small Step Train Loss:0.2327, Train Accuracy:93.6125%\n",
            "--------------------\n",
            "Epoch [1/4], Step [50000/50584], Big Step Train Loss:0.2327, Validation Loss:0.1302\n",
            "Epoch [1/4], Step [50000/50584], Big Step Train Accuracy:93.6125%, Validation Accuracy:96.4737%\n",
            "--------------------\n",
            "Saved at 22:01:19\n",
            "Epoch [1/4], Step [50584/50584], Big Step Train Loss:0.2317, Validation Loss:0.1199\n",
            "Epoch [1/4], Step [50584/50584], Big Step Train Accuracy:93.6394%, Validation Accuracy:96.6359%\n",
            "--------------------\n",
            "Saved at 22:07:19\n",
            "Saved at 22:21:17\n",
            "Epoch [2/4], Step [2000/50584], Small Step Train Loss:0.1221, Train Accuracy:96.8875%\n",
            "--------------------\n",
            "Saved at 22:35:16\n",
            "Epoch [2/4], Step [4000/50584], Small Step Train Loss:0.1245, Train Accuracy:96.7766%\n",
            "--------------------\n",
            "Saved at 22:49:15\n",
            "Epoch [2/4], Step [6000/50584], Small Step Train Loss:0.1232, Train Accuracy:96.8312%\n",
            "--------------------\n",
            "Saved at 23:03:14\n",
            "Epoch [2/4], Step [8000/50584], Small Step Train Loss:0.1234, Train Accuracy:96.8195%\n",
            "--------------------\n",
            "Saved at 23:17:12\n",
            "Epoch [2/4], Step [10000/50584], Small Step Train Loss:0.1236, Train Accuracy:96.8069%\n",
            "--------------------\n",
            "Epoch [2/4], Step [10000/50584], Big Step Train Loss:0.1236, Validation Loss:0.1261\n",
            "Epoch [2/4], Step [10000/50584], Big Step Train Accuracy:96.8069%, Validation Accuracy:96.7980%\n",
            "--------------------\n",
            "Saved at 23:19:06\n",
            "Saved at 23:33:04\n",
            "Epoch [2/4], Step [12000/50584], Small Step Train Loss:0.1227, Train Accuracy:96.8031%\n",
            "--------------------\n",
            "Saved at 23:47:03\n",
            "Epoch [2/4], Step [14000/50584], Small Step Train Loss:0.1227, Train Accuracy:96.8067%\n",
            "--------------------\n",
            "Saved at 00:01:02\n",
            "Epoch [2/4], Step [16000/50584], Small Step Train Loss:0.1225, Train Accuracy:96.8121%\n",
            "--------------------\n",
            "Saved at 00:15:01\n",
            "Epoch [2/4], Step [18000/50584], Small Step Train Loss:0.1220, Train Accuracy:96.8160%\n",
            "--------------------\n",
            "Saved at 00:29:01\n",
            "Epoch [2/4], Step [20000/50584], Small Step Train Loss:0.1218, Train Accuracy:96.8341%\n",
            "--------------------\n",
            "Epoch [2/4], Step [20000/50584], Big Step Train Loss:0.1218, Validation Loss:0.1296\n",
            "Epoch [2/4], Step [20000/50584], Big Step Train Accuracy:96.8341%, Validation Accuracy:96.8709%\n",
            "--------------------\n",
            "Saved at 00:30:55\n",
            "Saved at 00:44:54\n",
            "Epoch [2/4], Step [22000/50584], Small Step Train Loss:0.1213, Train Accuracy:96.8509%\n",
            "--------------------\n",
            "Saved at 00:58:54\n",
            "Epoch [2/4], Step [24000/50584], Small Step Train Loss:0.1210, Train Accuracy:96.8654%\n",
            "--------------------\n",
            "Saved at 01:12:53\n",
            "Epoch [2/4], Step [26000/50584], Small Step Train Loss:0.1205, Train Accuracy:96.8861%\n",
            "--------------------\n",
            "Saved at 01:26:53\n",
            "Epoch [2/4], Step [28000/50584], Small Step Train Loss:0.1198, Train Accuracy:96.9065%\n",
            "--------------------\n",
            "Saved at 01:40:51\n",
            "Epoch [2/4], Step [30000/50584], Small Step Train Loss:0.1187, Train Accuracy:96.9398%\n",
            "--------------------\n",
            "Epoch [2/4], Step [30000/50584], Big Step Train Loss:0.1187, Validation Loss:0.1442\n",
            "Epoch [2/4], Step [30000/50584], Big Step Train Accuracy:96.9398%, Validation Accuracy:96.9439%\n",
            "--------------------\n",
            "Saved at 01:42:46\n",
            "Saved at 01:56:45\n",
            "Epoch [2/4], Step [32000/50584], Small Step Train Loss:0.1185, Train Accuracy:96.9516%\n",
            "--------------------\n",
            "Saved at 02:10:45\n",
            "Epoch [2/4], Step [34000/50584], Small Step Train Loss:0.1181, Train Accuracy:96.9719%\n",
            "--------------------\n",
            "Saved at 02:24:47\n",
            "Epoch [2/4], Step [36000/50584], Small Step Train Loss:0.1176, Train Accuracy:96.9858%\n",
            "--------------------\n",
            "Saved at 02:38:49\n",
            "Epoch [2/4], Step [38000/50584], Small Step Train Loss:0.1169, Train Accuracy:97.0010%\n",
            "--------------------\n",
            "Saved at 02:52:51\n",
            "Epoch [2/4], Step [40000/50584], Small Step Train Loss:0.1165, Train Accuracy:97.0120%\n",
            "--------------------\n",
            "Epoch [2/4], Step [40000/50584], Big Step Train Loss:0.1165, Validation Loss:0.1122\n",
            "Epoch [2/4], Step [40000/50584], Big Step Train Accuracy:97.0120%, Validation Accuracy:97.1952%\n",
            "--------------------\n",
            "Saved at 02:54:49\n",
            "Saved at 03:08:52\n",
            "Epoch [2/4], Step [42000/50584], Small Step Train Loss:0.1159, Train Accuracy:97.0214%\n",
            "--------------------\n",
            "Saved at 03:22:53\n",
            "Epoch [2/4], Step [44000/50584], Small Step Train Loss:0.1156, Train Accuracy:97.0334%\n",
            "--------------------\n",
            "Saved at 03:36:52\n",
            "Epoch [2/4], Step [46000/50584], Small Step Train Loss:0.1152, Train Accuracy:97.0404%\n",
            "--------------------\n",
            "Saved at 03:50:54\n",
            "Epoch [2/4], Step [48000/50584], Small Step Train Loss:0.1150, Train Accuracy:97.0477%\n",
            "--------------------\n",
            "Saved at 04:04:53\n",
            "Epoch [2/4], Step [50000/50584], Small Step Train Loss:0.1146, Train Accuracy:97.0607%\n",
            "--------------------\n",
            "Epoch [2/4], Step [50000/50584], Big Step Train Loss:0.1146, Validation Loss:0.1083\n",
            "Epoch [2/4], Step [50000/50584], Big Step Train Accuracy:97.0607%, Validation Accuracy:97.2357%\n",
            "--------------------\n",
            "Saved at 04:06:50\n",
            "Epoch [2/4], Step [50584/50584], Big Step Train Loss:0.1145, Validation Loss:0.1145\n",
            "Epoch [2/4], Step [50584/50584], Big Step Train Accuracy:97.0644%, Validation Accuracy:97.3898%\n",
            "--------------------\n",
            "Saved at 04:12:49\n",
            "Saved at 04:26:47\n",
            "Epoch [3/4], Step [2000/50584], Small Step Train Loss:0.0822, Train Accuracy:97.9781%\n",
            "--------------------\n",
            "Saved at 04:40:49\n",
            "Epoch [3/4], Step [4000/50584], Small Step Train Loss:0.0824, Train Accuracy:97.9797%\n",
            "--------------------\n",
            "Saved at 04:54:52\n",
            "Epoch [3/4], Step [6000/50584], Small Step Train Loss:0.0837, Train Accuracy:97.9688%\n",
            "--------------------\n",
            "Saved at 05:08:55\n",
            "Epoch [3/4], Step [8000/50584], Small Step Train Loss:0.0837, Train Accuracy:97.9531%\n",
            "--------------------\n",
            "Saved at 05:22:56\n",
            "Epoch [3/4], Step [10000/50584], Small Step Train Loss:0.0836, Train Accuracy:97.9363%\n",
            "--------------------\n",
            "Epoch [3/4], Step [10000/50584], Big Step Train Loss:0.0836, Validation Loss:0.1155\n",
            "Epoch [3/4], Step [10000/50584], Big Step Train Accuracy:97.9363%, Validation Accuracy:97.4141%\n",
            "--------------------\n",
            "Saved at 05:24:50\n",
            "Saved at 05:38:48\n",
            "Epoch [3/4], Step [12000/50584], Small Step Train Loss:0.0831, Train Accuracy:97.9354%\n",
            "--------------------\n",
            "Saved at 05:52:47\n",
            "Epoch [3/4], Step [14000/50584], Small Step Train Loss:0.0833, Train Accuracy:97.9339%\n",
            "--------------------\n",
            "Saved at 06:06:45\n",
            "Epoch [3/4], Step [16000/50584], Small Step Train Loss:0.0831, Train Accuracy:97.9473%\n",
            "--------------------\n",
            "Saved at 06:20:44\n",
            "Epoch [3/4], Step [18000/50584], Small Step Train Loss:0.0827, Train Accuracy:97.9635%\n",
            "--------------------\n",
            "Saved at 06:34:42\n",
            "Epoch [3/4], Step [20000/50584], Small Step Train Loss:0.0829, Train Accuracy:97.9741%\n",
            "--------------------\n",
            "Epoch [3/4], Step [20000/50584], Big Step Train Loss:0.0829, Validation Loss:0.1224\n",
            "Epoch [3/4], Step [20000/50584], Big Step Train Accuracy:97.9741%, Validation Accuracy:97.2195%\n",
            "--------------------\n",
            "Saved at 06:36:37\n",
            "Saved at 06:50:35\n",
            "Epoch [3/4], Step [22000/50584], Small Step Train Loss:0.0831, Train Accuracy:97.9702%\n",
            "--------------------\n",
            "Saved at 07:04:36\n",
            "Epoch [3/4], Step [24000/50584], Small Step Train Loss:0.0831, Train Accuracy:97.9708%\n",
            "--------------------\n"
          ]
        },
        {
          "ename": "KeyboardInterrupt",
          "evalue": "ignored",
          "output_type": "error",
          "traceback": [
            "\u001b[0;31m---------------------------------------------------------------------------\u001b[0m",
            "\u001b[0;31mKeyboardInterrupt\u001b[0m                         Traceback (most recent call last)",
            "\u001b[0;32m<ipython-input-25-75016edb10ad>\u001b[0m in \u001b[0;36m<module>\u001b[0;34m()\u001b[0m\n\u001b[1;32m      1\u001b[0m \u001b[0;32mfor\u001b[0m \u001b[0mepoch\u001b[0m \u001b[0;32min\u001b[0m \u001b[0mrange\u001b[0m\u001b[0;34m(\u001b[0m\u001b[0mnum_train_epochs\u001b[0m\u001b[0;34m)\u001b[0m\u001b[0;34m:\u001b[0m\u001b[0;34m\u001b[0m\u001b[0;34m\u001b[0m\u001b[0m\n\u001b[0;32m----> 2\u001b[0;31m     \u001b[0mtrain_loss\u001b[0m \u001b[0;34m=\u001b[0m \u001b[0mtrain_epoch\u001b[0m\u001b[0;34m(\u001b[0m \u001b[0mmodel\u001b[0m\u001b[0;34m,\u001b[0m\u001b[0mtrain_data_loader\u001b[0m\u001b[0;34m,\u001b[0m\u001b[0mnegative_log_loss\u001b[0m\u001b[0;34m,\u001b[0m \u001b[0moptimizer\u001b[0m\u001b[0;34m,\u001b[0m\u001b[0mscheduler\u001b[0m\u001b[0;34m,\u001b[0m \u001b[0mepoch\u001b[0m\u001b[0;34m)\u001b[0m\u001b[0;34m\u001b[0m\u001b[0;34m\u001b[0m\u001b[0m\n\u001b[0m",
            "\u001b[0;32m<ipython-input-24-a5c88ab0152c>\u001b[0m in \u001b[0;36mtrain_epoch\u001b[0;34m(model, data_loader, loss_fn, optimizer, scheduler, epoch)\u001b[0m\n\u001b[1;32m     41\u001b[0m \u001b[0;34m\u001b[0m\u001b[0m\n\u001b[1;32m     42\u001b[0m         \u001b[0;31m#backward\u001b[0m\u001b[0;34m\u001b[0m\u001b[0;34m\u001b[0m\u001b[0;34m\u001b[0m\u001b[0m\n\u001b[0;32m---> 43\u001b[0;31m         \u001b[0mloss\u001b[0m\u001b[0;34m.\u001b[0m\u001b[0mbackward\u001b[0m\u001b[0;34m(\u001b[0m\u001b[0;34m)\u001b[0m\u001b[0;34m\u001b[0m\u001b[0;34m\u001b[0m\u001b[0m\n\u001b[0m\u001b[1;32m     44\u001b[0m         \u001b[0mnn\u001b[0m\u001b[0;34m.\u001b[0m\u001b[0mutils\u001b[0m\u001b[0;34m.\u001b[0m\u001b[0mclip_grad_norm_\u001b[0m\u001b[0;34m(\u001b[0m\u001b[0mmodel\u001b[0m\u001b[0;34m.\u001b[0m\u001b[0mparameters\u001b[0m\u001b[0;34m(\u001b[0m\u001b[0;34m)\u001b[0m\u001b[0;34m,\u001b[0m \u001b[0mmax_norm\u001b[0m\u001b[0;34m=\u001b[0m\u001b[0mmax_grad_norm\u001b[0m\u001b[0;34m)\u001b[0m\u001b[0;34m\u001b[0m\u001b[0;34m\u001b[0m\u001b[0m\n\u001b[1;32m     45\u001b[0m         \u001b[0moptimizer\u001b[0m\u001b[0;34m.\u001b[0m\u001b[0mstep\u001b[0m\u001b[0;34m(\u001b[0m\u001b[0;34m)\u001b[0m\u001b[0;34m\u001b[0m\u001b[0;34m\u001b[0m\u001b[0m\n",
            "\u001b[0;32m/usr/local/lib/python3.7/dist-packages/torch/_tensor.py\u001b[0m in \u001b[0;36mbackward\u001b[0;34m(self, gradient, retain_graph, create_graph, inputs)\u001b[0m\n\u001b[1;32m    253\u001b[0m                 \u001b[0mcreate_graph\u001b[0m\u001b[0;34m=\u001b[0m\u001b[0mcreate_graph\u001b[0m\u001b[0;34m,\u001b[0m\u001b[0;34m\u001b[0m\u001b[0;34m\u001b[0m\u001b[0m\n\u001b[1;32m    254\u001b[0m                 inputs=inputs)\n\u001b[0;32m--> 255\u001b[0;31m         \u001b[0mtorch\u001b[0m\u001b[0;34m.\u001b[0m\u001b[0mautograd\u001b[0m\u001b[0;34m.\u001b[0m\u001b[0mbackward\u001b[0m\u001b[0;34m(\u001b[0m\u001b[0mself\u001b[0m\u001b[0;34m,\u001b[0m \u001b[0mgradient\u001b[0m\u001b[0;34m,\u001b[0m \u001b[0mretain_graph\u001b[0m\u001b[0;34m,\u001b[0m \u001b[0mcreate_graph\u001b[0m\u001b[0;34m,\u001b[0m \u001b[0minputs\u001b[0m\u001b[0;34m=\u001b[0m\u001b[0minputs\u001b[0m\u001b[0;34m)\u001b[0m\u001b[0;34m\u001b[0m\u001b[0;34m\u001b[0m\u001b[0m\n\u001b[0m\u001b[1;32m    256\u001b[0m \u001b[0;34m\u001b[0m\u001b[0m\n\u001b[1;32m    257\u001b[0m     \u001b[0;32mdef\u001b[0m \u001b[0mregister_hook\u001b[0m\u001b[0;34m(\u001b[0m\u001b[0mself\u001b[0m\u001b[0;34m,\u001b[0m \u001b[0mhook\u001b[0m\u001b[0;34m)\u001b[0m\u001b[0;34m:\u001b[0m\u001b[0;34m\u001b[0m\u001b[0;34m\u001b[0m\u001b[0m\n",
            "\u001b[0;32m/usr/local/lib/python3.7/dist-packages/torch/autograd/__init__.py\u001b[0m in \u001b[0;36mbackward\u001b[0;34m(tensors, grad_tensors, retain_graph, create_graph, grad_variables, inputs)\u001b[0m\n\u001b[1;32m    147\u001b[0m     Variable._execution_engine.run_backward(\n\u001b[1;32m    148\u001b[0m         \u001b[0mtensors\u001b[0m\u001b[0;34m,\u001b[0m \u001b[0mgrad_tensors_\u001b[0m\u001b[0;34m,\u001b[0m \u001b[0mretain_graph\u001b[0m\u001b[0;34m,\u001b[0m \u001b[0mcreate_graph\u001b[0m\u001b[0;34m,\u001b[0m \u001b[0minputs\u001b[0m\u001b[0;34m,\u001b[0m\u001b[0;34m\u001b[0m\u001b[0;34m\u001b[0m\u001b[0m\n\u001b[0;32m--> 149\u001b[0;31m         allow_unreachable=True, accumulate_grad=True)  # allow_unreachable flag\n\u001b[0m\u001b[1;32m    150\u001b[0m \u001b[0;34m\u001b[0m\u001b[0m\n\u001b[1;32m    151\u001b[0m \u001b[0;34m\u001b[0m\u001b[0m\n",
            "\u001b[0;31mKeyboardInterrupt\u001b[0m: "
          ]
        }
      ],
      "source": [
        "for epoch in range(num_train_epochs):\n",
        "    train_loss = train_epoch( model,train_data_loader,negative_log_loss, optimizer,scheduler, epoch)"
      ]
    },
    {
      "cell_type": "code",
      "execution_count": null,
      "metadata": {
        "colab": {
          "base_uri": "https://localhost:8080/",
          "height": 313
        },
        "id": "X4VBKh8hVnLl",
        "outputId": "a349fbdd-0a50-44ab-f764-1cfa205b0b7e"
      },
      "outputs": [
        {
          "data": {
            "text/plain": [
              "<matplotlib.legend.Legend at 0x7fa3a4c82550>"
            ]
          },
          "execution_count": 26,
          "metadata": {
            "tags": []
          },
          "output_type": "execute_result"
        },
        {
          "data": {
            "image/png": "[encoded data removed]",
            "text/plain": [
              "<Figure size 432x288 with 1 Axes>"
            ]
          },
          "metadata": {
            "needs_background": "light",
            "tags": []
          },
          "output_type": "display_data"
        }
      ],
      "source": [
        "plt.plot(history[\"train_acc\"], label='train Accuracy')\n",
        "plt.plot(history[\"val_acc\"], label='validation Accuracy')\n",
        "\n",
        "plt.title('Training history')\n",
        "plt.ylabel('Accuracy')\n",
        "plt.xlabel('validation step (4 per Epoch)')\n",
        "plt.legend()"
      ]
    },
    {
      "cell_type": "code",
      "execution_count": null,
      "metadata": {
        "colab": {
          "base_uri": "https://localhost:8080/",
          "height": 313
        },
        "id": "hIl3pm5hP-a7",
        "outputId": "f7168528-398e-465e-821a-42f9e5f1ce00"
      },
      "outputs": [
        {
          "data": {
            "text/plain": [
              "<matplotlib.legend.Legend at 0x7fa3a3702f50>"
            ]
          },
          "execution_count": 27,
          "metadata": {
            "tags": []
          },
          "output_type": "execute_result"
        },
        {
          "data": {
            "image/png": "[encoded data removed]",
            "text/plain": [
              "<Figure size 432x288 with 1 Axes>"
            ]
          },
          "metadata": {
            "needs_background": "light",
            "tags": []
          },
          "output_type": "display_data"
        }
      ],
      "source": [
        "plt.plot(history[\"train_loss\"], label='train loss')\n",
        "plt.plot(history[\"val_loss\"], label='validation loss')\n",
        "\n",
        "plt.title('Training history')\n",
        "plt.ylabel('Loss')\n",
        "plt.xlabel('validation step (4 per Epoch)')\n",
        "plt.legend()"
      ]
    },
    {
      "cell_type": "code",
      "execution_count": null,
      "metadata": {
        "colab": {
          "base_uri": "https://localhost:8080/"
        },
        "id": "ilqE9R31YuSP",
        "outputId": "9226a418-7f16-4ded-ee54-366c6255f416"
      },
      "outputs": [
        {
          "data": {
            "text/plain": [
              "197216"
            ]
          },
          "execution_count": 36,
          "metadata": {
            "tags": []
          },
          "output_type": "execute_result"
        }
      ],
      "source": [
        ""
      ]
    },
    {
      "cell_type": "code",
      "execution_count": null,
      "metadata": {
        "id": "E_tjZNd2XrLJ"
      },
      "outputs": [],
      "source": [
        "test_loss,test_acc =eval_model(model,test_data_loader,negative_log_loss)"
      ]
    },
    {
      "cell_type": "code",
      "execution_count": null,
      "metadata": {
        "colab": {
          "base_uri": "https://localhost:8080/"
        },
        "id": "deXvKOLVbOnw",
        "outputId": "8899eb42-edd2-469d-db33-fb45d82506a1"
      },
      "outputs": [
        {
          "name": "stdout",
          "output_type": "stream",
          "text": [
            "test Accuracy is 97.54150702426566%\n"
          ]
        }
      ],
      "source": [
        "print(f\"test Accuracy is {test_acc*100}%\")"
      ]
    },
    {
      "cell_type": "code",
      "execution_count": null,
      "metadata": {
        "colab": {
          "base_uri": "https://localhost:8080/"
        },
        "id": "x6xMgwL3bX8U",
        "outputId": "bb645114-67e8-46c7-cdf9-f9fadac1b655"
      },
      "outputs": [
        {
          "name": "stdout",
          "output_type": "stream",
          "text": [
            "test Loss is 0.11394203385568819\n"
          ]
        }
      ],
      "source": [
        "print(f\"test Loss is {test_loss}\")"
      ]
    },
    {
      "cell_type": "markdown",
      "metadata": {
        "id": "-8kV7TagDur6"
      },
      "source": [
        "fasl"
      ]
    },
    {
      "cell_type": "code",
      "execution_count": null,
      "metadata": {
        "id": "cZDQoeJd9Qtr"
      },
      "outputs": [],
      "source": [
        "test = test_dataset[:]"
      ]
    },
    {
      "cell_type": "code",
      "execution_count": null,
      "metadata": {
        "colab": {
          "base_uri": "https://localhost:8080/"
        },
        "id": "6G62CBOl9Ywe",
        "outputId": "92d3a90b-b02c-4980-d9af-621a34a811c4"
      },
      "outputs": [
        {
          "name": "stdout",
          "output_type": "stream",
          "text": [
            "(12513, 768)\n",
            "[[ 0.21957041  0.05871633 -0.47717711 ... -0.02059981 -0.26361862\n",
            "  -0.1701171 ]\n",
            " [ 0.07024603  0.3239693  -0.05192249 ...  0.15993565 -0.27529338\n",
            "   0.27964827]\n",
            " [ 0.26350206  0.29723573  0.06827255 ...  0.05135059 -0.04910861\n",
            "   0.10554145]\n",
            " ...\n",
            " [ 0.2703141   0.44326222 -0.34210336 ...  0.04567766  0.25472993\n",
            "  -0.33304831]\n",
            " [ 0.18905362  0.01253811 -0.2969546  ... -0.04815906  0.00241213\n",
            "  -0.20985492]\n",
            " [ 0.13487095 -0.02454663 -0.46219724 ... -0.55548501  0.18564965\n",
            "  -0.09016064]]\n"
          ]
        }
      ],
      "source": [
        "test_encoding = np.empty((0,768))\n",
        "ques_encoder_model.eval()\n",
        "with torch.no_grad():\n",
        "    for x in test.iterrows():\n",
        "        ques_title,ques_body = x[1][\"ques_title\"],x[1][\"ques_body\"]\n",
        "        ques_encoding =tokenizer.__call__(\n",
        "            ques_title,\n",
        "            text_pair = ques_body,\n",
        "            truncation=True,\n",
        "            max_length=ques_max_length,\n",
        "            padding='longest',\n",
        "            return_tensors = 'pt'\n",
        "        )\n",
        "        enc = ques_encoder_model( ques_encoding[\"input_ids\"].to(device), ques_encoding[\"attention_mask\"].to(device))\n",
        "        test_encoding = np.vstack([test_encoding,enc.cpu()])\n",
        "print(test_encoding.shape)\n",
        "print(test_encoding)"
      ]
    },
    {
      "cell_type": "code",
      "execution_count": null,
      "metadata": {
        "id": "r_PBknmHEhjR"
      },
      "outputs": [],
      "source": [
        "ans_encoding = np.empty((0,768))\n",
        "ans_encoder_model.eval()\n",
        "with torch.no_grad():\n",
        "    for i,x in enumerate( test_dataset[\"ans\"]):\n",
        "            \n",
        "        ans_enc =tokenizer.__call__(\n",
        "            x,\n",
        "            truncation=True,\n",
        "            max_length=ans_max_length,\n",
        "            padding='longest',\n",
        "            return_tensors = 'pt'\n",
        "        )\n",
        "        ans_enc = ans_encoder_model( ans_enc[\"input_ids\"].to(device), ans_enc[\"attention_mask\"].to(device))\n",
        "        ans_encoding = np.vstack([ans_encoding,ans_enc.cpu()])"
      ]
    },
    {
      "cell_type": "code",
      "execution_count": null,
      "metadata": {
        "colab": {
          "base_uri": "https://localhost:8080/"
        },
        "id": "2Ng2ujIWJgTo",
        "outputId": "fc00af1e-2288-4468-cd3f-7a673c6a1845"
      },
      "outputs": [
        {
          "name": "stdout",
          "output_type": "stream",
          "text": [
            "number of questions 12513\n",
            "number of answers available 12513\n"
          ]
        }
      ],
      "source": [
        "print(\"number of questions\",len(test_encoding))\n",
        "print(\"number of answers available\",len(ans_encoding))"
      ]
    },
    {
      "cell_type": "code",
      "execution_count": null,
      "metadata": {
        "id": "jicPXll2NXtJ"
      },
      "outputs": [],
      "source": [
        "def eval_top_k(test_encoding,ans_encoding,k):\n",
        "    similarity = np.dot(test_encoding,ans_encoding.T)\n",
        "    pred = np.argpartition(-similarity, k)[:,:k]\n",
        "    cnt =0 \n",
        "    for i,row in enumerate(pred):\n",
        "        if i in row:\n",
        "            cnt+=1\n",
        "    return cnt/len(test_encoding)*100"
      ]
    },
    {
      "cell_type": "code",
      "execution_count": null,
      "metadata": {
        "colab": {
          "base_uri": "https://localhost:8080/"
        },
        "id": "T2QZ-X74Fbgz",
        "outputId": "80f9f237-5760-42b9-88c4-73240dc62a45"
      },
      "outputs": [
        {
          "name": "stdout",
          "output_type": "stream",
          "text": [
            "percantage of exact matches: 53.84%\n"
          ]
        }
      ],
      "source": [
        "k=1\n",
        "print(f\"percantage of exact matches: {eval_top_k(test_encoding,ans_encoding,k):.2f}%\")"
      ]
    },
    {
      "cell_type": "code",
      "execution_count": null,
      "metadata": {
        "colab": {
          "base_uri": "https://localhost:8080/"
        },
        "id": "urCe88nUKpnV",
        "outputId": "c8648a81-aa0f-48e2-830f-d314d1e2c7af"
      },
      "outputs": [
        {
          "name": "stdout",
          "output_type": "stream",
          "text": [
            "percantage of Top-5 retrieved answers matches: 73.36%\n"
          ]
        }
      ],
      "source": [
        "k=5\n",
        "print(f\"percantage of Top-5 retrieved answers matches: {eval_top_k(test_encoding,ans_encoding,k):.2f}%\")"
      ]
    },
    {
      "cell_type": "code",
      "execution_count": null,
      "metadata": {
        "colab": {
          "base_uri": "https://localhost:8080/"
        },
        "id": "XPWxb6KhLAbV",
        "outputId": "31ac98cf-4245-4bda-ba7b-a782eaf27be7"
      },
      "outputs": [
        {
          "name": "stdout",
          "output_type": "stream",
          "text": [
            "percantage of Top-10 retrieved answers matches: 79.83%\n"
          ]
        }
      ],
      "source": [
        "k=10\n",
        "print(f\"percantage of Top-10 retrieved answers matches: {eval_top_k(test_encoding,ans_encoding,k):.2f}%\")"
      ]
    },
    {
      "cell_type": "code",
      "execution_count": null,
      "metadata": {
        "colab": {
          "base_uri": "https://localhost:8080/"
        },
        "id": "tIgxeSnOLCaq",
        "outputId": "53ad4ccd-b4fc-42ea-b33d-f17c727a0635"
      },
      "outputs": [
        {
          "name": "stdout",
          "output_type": "stream",
          "text": [
            "percantage of Top-100 retrieved answers matches: 94.57%\n"
          ]
        }
      ],
      "source": [
        "k=100\n",
        "print(f\"percantage of Top-100 retrieved answers matches: {eval_top_k(test_encoding,ans_encoding,k):.2f}%\")"
      ]
    }
  ],
  "metadata": {
    "accelerator": "GPU",
    "colab": {
      "collapsed_sections": [],
      "name": "final_dot.ipynb",
      "provenance": []
    },
    "kernelspec": {
      "display_name": "Python 3",
      "language": "python",
      "name": "python3"
    },
    "language_info": {
      "codemirror_mode": {
        "name": "ipython",
        "version": 3
      },
      "file_extension": ".py",
      "mimetype": "text/x-python",
      "name": "python",
      "nbconvert_exporter": "python",
      "pygments_lexer": "ipython3",
      "version": "3.7.4"
    },
    "widgets": {
      "application/vnd.jupyter.widget-state+json": {
        "0e731b6f773e435fa68f71f0a5b13f92": {
          "model_module": "@jupyter-widgets/controls",
          "model_name": "HBoxModel",
          "state": {
            "_dom_classes": [],
            "_model_module": "@jupyter-widgets/controls",
            "_model_module_version": "1.5.0",
            "_model_name": "HBoxModel",
            "_view_count": null,
            "_view_module": "@jupyter-widgets/controls",
            "_view_module_version": "1.5.0",
            "_view_name": "HBoxView",
            "box_style": "",
            "children": [
              "IPY_MODEL_a91a2d21aabc4b44b02dbdeecaa81672",
              "IPY_MODEL_f3800d9af1a6447cac954cdc0b270951"
            ],
            "layout": "IPY_MODEL_575ac7fb8c794006a9afc34867ece5f4"
          },
          "model_module_version": "1.5.0"
        },
        "575ac7fb8c794006a9afc34867ece5f4": {
          "model_module": "@jupyter-widgets/base",
          "model_name": "LayoutModel",
          "state": {
            "_model_module": "@jupyter-widgets/base",
            "_model_module_version": "1.2.0",
            "_model_name": "LayoutModel",
            "_view_count": null,
            "_view_module": "@jupyter-widgets/base",
            "_view_module_version": "1.2.0",
            "_view_name": "LayoutView",
            "align_content": null,
            "align_items": null,
            "align_self": null,
            "border": null,
            "bottom": null,
            "display": null,
            "flex": null,
            "flex_flow": null,
            "grid_area": null,
            "grid_auto_columns": null,
            "grid_auto_flow": null,
            "grid_auto_rows": null,
            "grid_column": null,
            "grid_gap": null,
            "grid_row": null,
            "grid_template_areas": null,
            "grid_template_columns": null,
            "grid_template_rows": null,
            "height": null,
            "justify_content": null,
            "justify_items": null,
            "left": null,
            "margin": null,
            "max_height": null,
            "max_width": null,
            "min_height": null,
            "min_width": null,
            "object_fit": null,
            "object_position": null,
            "order": null,
            "overflow": null,
            "overflow_x": null,
            "overflow_y": null,
            "padding": null,
            "right": null,
            "top": null,
            "visibility": null,
            "width": null
          },
          "model_module_version": "1.2.0"
        },
        "7003e0810c2147ca9c7a3fbf4fa58594": {
          "model_module": "@jupyter-widgets/base",
          "model_name": "LayoutModel",
          "state": {
            "_model_module": "@jupyter-widgets/base",
            "_model_module_version": "1.2.0",
            "_model_name": "LayoutModel",
            "_view_count": null,
            "_view_module": "@jupyter-widgets/base",
            "_view_module_version": "1.2.0",
            "_view_name": "LayoutView",
            "align_content": null,
            "align_items": null,
            "align_self": null,
            "border": null,
            "bottom": null,
            "display": null,
            "flex": null,
            "flex_flow": null,
            "grid_area": null,
            "grid_auto_columns": null,
            "grid_auto_flow": null,
            "grid_auto_rows": null,
            "grid_column": null,
            "grid_gap": null,
            "grid_row": null,
            "grid_template_areas": null,
            "grid_template_columns": null,
            "grid_template_rows": null,
            "height": null,
            "justify_content": null,
            "justify_items": null,
            "left": null,
            "margin": null,
            "max_height": null,
            "max_width": null,
            "min_height": null,
            "min_width": null,
            "object_fit": null,
            "object_position": null,
            "order": null,
            "overflow": null,
            "overflow_x": null,
            "overflow_y": null,
            "padding": null,
            "right": null,
            "top": null,
            "visibility": null,
            "width": null
          },
          "model_module_version": "1.2.0"
        },
        "789bcaec8ddb44d3b5bb32d92b6363f1": {
          "model_module": "@jupyter-widgets/controls",
          "model_name": "DescriptionStyleModel",
          "state": {
            "_model_module": "@jupyter-widgets/controls",
            "_model_module_version": "1.5.0",
            "_model_name": "DescriptionStyleModel",
            "_view_count": null,
            "_view_module": "@jupyter-widgets/base",
            "_view_module_version": "1.2.0",
            "_view_name": "StyleView",
            "description_width": ""
          },
          "model_module_version": "1.5.0"
        },
        "a91a2d21aabc4b44b02dbdeecaa81672": {
          "model_module": "@jupyter-widgets/controls",
          "model_name": "FloatProgressModel",
          "state": {
            "_dom_classes": [],
            "_model_module": "@jupyter-widgets/controls",
            "_model_module_version": "1.5.0",
            "_model_name": "FloatProgressModel",
            "_view_count": null,
            "_view_module": "@jupyter-widgets/controls",
            "_view_module_version": "1.5.0",
            "_view_name": "ProgressView",
            "bar_style": "success",
            "description": "Downloading: 100%",
            "description_tooltip": null,
            "layout": "IPY_MODEL_7003e0810c2147ca9c7a3fbf4fa58594",
            "max": 267967963,
            "min": 0,
            "orientation": "horizontal",
            "style": "IPY_MODEL_cc18683023bf4c089c9274f0874d826b",
            "value": 267967963
          },
          "model_module_version": "1.5.0"
        },
        "cc18683023bf4c089c9274f0874d826b": {
          "model_module": "@jupyter-widgets/controls",
          "model_name": "ProgressStyleModel",
          "state": {
            "_model_module": "@jupyter-widgets/controls",
            "_model_module_version": "1.5.0",
            "_model_name": "ProgressStyleModel",
            "_view_count": null,
            "_view_module": "@jupyter-widgets/base",
            "_view_module_version": "1.2.0",
            "_view_name": "StyleView",
            "bar_color": null,
            "description_width": "initial"
          },
          "model_module_version": "1.5.0"
        },
        "df737e446eee4f9faaed72f1d0975385": {
          "model_module": "@jupyter-widgets/base",
          "model_name": "LayoutModel",
          "state": {
            "_model_module": "@jupyter-widgets/base",
            "_model_module_version": "1.2.0",
            "_model_name": "LayoutModel",
            "_view_count": null,
            "_view_module": "@jupyter-widgets/base",
            "_view_module_version": "1.2.0",
            "_view_name": "LayoutView",
            "align_content": null,
            "align_items": null,
            "align_self": null,
            "border": null,
            "bottom": null,
            "display": null,
            "flex": null,
            "flex_flow": null,
            "grid_area": null,
            "grid_auto_columns": null,
            "grid_auto_flow": null,
            "grid_auto_rows": null,
            "grid_column": null,
            "grid_gap": null,
            "grid_row": null,
            "grid_template_areas": null,
            "grid_template_columns": null,
            "grid_template_rows": null,
            "height": null,
            "justify_content": null,
            "justify_items": null,
            "left": null,
            "margin": null,
            "max_height": null,
            "max_width": null,
            "min_height": null,
            "min_width": null,
            "object_fit": null,
            "object_position": null,
            "order": null,
            "overflow": null,
            "overflow_x": null,
            "overflow_y": null,
            "padding": null,
            "right": null,
            "top": null,
            "visibility": null,
            "width": null
          },
          "model_module_version": "1.2.0"
        },
        "f3800d9af1a6447cac954cdc0b270951": {
          "model_module": "@jupyter-widgets/controls",
          "model_name": "HTMLModel",
          "state": {
            "_dom_classes": [],
            "_model_module": "@jupyter-widgets/controls",
            "_model_module_version": "1.5.0",
            "_model_name": "HTMLModel",
            "_view_count": null,
            "_view_module": "@jupyter-widgets/controls",
            "_view_module_version": "1.5.0",
            "_view_name": "HTMLView",
            "description": "",
            "description_tooltip": null,
            "layout": "IPY_MODEL_df737e446eee4f9faaed72f1d0975385",
            "placeholder": "​",
            "style": "IPY_MODEL_789bcaec8ddb44d3b5bb32d92b6363f1",
            "value": " 268M/268M [00:05&lt;00:00, 48.8MB/s]"
          },
          "model_module_version": "1.5.0"
        }
      }
    }
  },
  "nbformat": 4,
  "nbformat_minor": 0
}